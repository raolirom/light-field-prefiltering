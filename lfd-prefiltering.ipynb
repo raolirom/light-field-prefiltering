{
 "metadata": {
  "language_info": {
   "codemirror_mode": {
    "name": "ipython",
    "version": 3
   },
   "file_extension": ".py",
   "mimetype": "text/x-python",
   "name": "python",
   "nbconvert_exporter": "python",
   "pygments_lexer": "ipython3",
   "version": "3.8.5-final"
  },
  "orig_nbformat": 2,
  "kernelspec": {
   "name": "Python 3.8.5 64-bit ('lfd-prefiltering': conda)",
   "display_name": "Python 3.8.5 64-bit ('lfd-prefiltering': conda)",
   "metadata": {
    "interpreter": {
     "hash": "e7b5a20710a73ab3a290802bfe253d210f0ec2de831a3365ffcbe86156f7fa95"
    }
   }
  }
 },
 "nbformat": 4,
 "nbformat_minor": 2,
 "cells": [
  {
   "cell_type": "code",
   "execution_count": 1,
   "metadata": {},
   "outputs": [],
   "source": [
    "from PIL import Image\n",
    "import numpy as np\n",
    "import cupy as cp\n",
    "from scipy import misc\n",
    "from matplotlib import pyplot, cm\n",
    "from tqdm.notebook import tqdm\n",
    "from IPython.display import display"
   ]
  },
  {
   "cell_type": "code",
   "execution_count": 2,
   "metadata": {},
   "outputs": [],
   "source": [
    "def compute_coordinates(resolution, pitch):\n",
    "    \"\"\"Return an array of shape (res) containing the coordinates of a sampling lattice with given pitch.\"\"\"\n",
    "    indices = np.arange(resolution)\n",
    "    return (indices - resolution/2 + 0.5) * pitch\n",
    "\n",
    "def display_image(values, normalize=True, color_map=None):\n",
    "    \"\"\"Display an array of values as an image using a color map.\"\"\"\n",
    "    values = values * np.nan_to_num(1.0 / np.amax(values)) if normalize else values\n",
    "    color_values = cm.get_cmap(color_map)(values)\n",
    "    uint8_values = (color_values * 255).astype(np.uint8)\n",
    "    display(Image.fromarray(uint8_values).transpose(Image.ROTATE_90))"
   ]
  },
  {
   "cell_type": "code",
   "execution_count": 9,
   "metadata": {},
   "outputs": [
    {
     "output_type": "stream",
     "name": "stdout",
     "text": [
      "41 53\n"
     ]
    }
   ],
   "source": [
    "# Depths\n",
    "retina_depth = -17.0\n",
    "front_depth = 10.0\n",
    "back_depth = 30.0\n",
    "near_depth = 50.0\n",
    "far_depth = np.inf\n",
    "\n",
    "\n",
    "# Eye properties\n",
    "pupil_diameter = 5.0\n",
    "retina_size = 5.5\n",
    "retina_resolution = 768\n",
    "\n",
    "\n",
    "# Display properties\n",
    "front_pixel_pitch = 0.2\n",
    "back_pixel_pitch = 0.2\n",
    "front_pixel_size = front_pixel_pitch\n",
    "back_pixel_size = back_pixel_pitch\n",
    "\n",
    "front_useful_size = retina_size * front_depth / abs(retina_depth) + pupil_diameter\n",
    "view_useful_size = front_pixel_size * (back_depth / front_depth) + pupil_diameter * (back_depth / front_depth - 1)\n",
    "\n",
    "front_resolution = 2 * np.floor((front_useful_size + front_pixel_size) * 0.5 / front_pixel_pitch).astype(np.int32) - 1\n",
    "front_x = compute_coordinates(front_resolution, front_pixel_pitch)\n",
    "view_x = front_x * (back_depth / front_depth)\n",
    "view_beginning = np.floor((view_x - (view_useful_size + back_pixel_size) * 0.5) / back_pixel_pitch).astype(np.int32) + 1\n",
    "view_resolution = 1 - np.amax(view_beginning + np.flip(view_beginning))\n",
    "\n",
    "print(front_resolution, view_resolution)"
   ]
  },
  {
   "cell_type": "code",
   "execution_count": null,
   "metadata": {},
   "outputs": [],
   "source": [
    "# Depths\n",
    "retina_depth = -17.0\n",
    "front_depth = 10.0\n",
    "back_depth = 30.0\n",
    "near_depth = 50.0\n",
    "far_depth = np.inf\n",
    "\n",
    "\n",
    "# Eye properties\n",
    "pupil_diameter = 5.0\n",
    "retina_size = 5.5\n",
    "retina_resolution = 768\n",
    "\n",
    "\n",
    "# Display properties\n",
    "front_pixel_pitch = 1.0\n",
    "back_pixel_pitch = 1.0\n",
    "front_pixel_size = front_pixel_pitch\n",
    "front_pixel_size = back_pixel_pitch\n",
    "\n",
    "front_useful_size = retina_size * front_depth / abs(retina_depth) + pupil_diameter\n",
    "front_resolution = 2 * np.floor((useful_size_a + pixel_size_a) * 0.5 / pixel_pitch_a).astype(np.int32) - 1\n",
    "\n",
    "front_x = compute_coordinates(front_resolution, front_pitch)\n",
    "\n",
    "\n",
    "\n",
    "supersampling = 3 # This value must be an odd integer!\n",
    "\n",
    "\n",
    "\n",
    "useful_size_a = retina_size * z_a / abs(z_r) + pupil_diameter\n",
    "res_a = 2 * np.floor((useful_size_a + pixel_size_a) * 0.5 / pixel_pitch_a).astype(np.int32) - 1\n",
    "\n",
    "\n",
    "view_pitch = pixel_pitch * (z_b / z_a)\n",
    "view_size = pixel_size * (z_b / z_a) + pupil_diameter * (z_b / z_a + 1)\n",
    "view_res = np.ceil(view_size / pixel_size)\n",
    "view_res = view_res + 1 if view_pitch % pixel_size != 0 else view_res\n",
    "\n",
    "res_stride = np.rint(z_b / z_a).astype(np.int32)\n",
    "size_a = size_r * z_a / abs(z_r) + pupil_diameter\n",
    "pitch_a = size_a / res_a\n",
    "stride_b = pitch_a * (z_b / z_a)\n",
    "pitch_b = stride_b / res_stride\n",
    "res_b = np.ceil((pupil_diameter / pitch_b) * (z_b / z_a - 1)).astype(np.int32) + res_stride\n",
    "pitch_r = size_r / res_r\n",
    "\n",
    "xi_r = 0.5 / pitch_r\n",
    "xi_a = 0.5 / pitch_a\n",
    "xi_b = 0.5 / pitch_b\n",
    "\n",
    "res_lf = (res_a * supersampling, res_b * supersampling, res_a * supersampling, res_b * supersampling)\n",
    "res_disp = (res_a, res_b, res_a, res_b)\n",
    "\n",
    "print('Retina resolution:', (res_r, res_r))\n",
    "print('Display resolution:', res_disp)\n",
    "print('Light field resolution:', res_lf)"
   ]
  },
  {
   "cell_type": "code",
   "execution_count": null,
   "metadata": {},
   "outputs": [],
   "source": [
    "x = np.random.rand(*res_lf)\n",
    "\n",
    "print(x.nbytes/2**30)"
   ]
  },
  {
   "cell_type": "code",
   "execution_count": null,
   "metadata": {},
   "outputs": [],
   "source": [
    "retinal_image = misc.face(True).T[256:, ::-1]\n",
    "display_image(retinal_image)"
   ]
  },
  {
   "cell_type": "code",
   "execution_count": null,
   "metadata": {},
   "outputs": [],
   "source": []
  }
 ]
}