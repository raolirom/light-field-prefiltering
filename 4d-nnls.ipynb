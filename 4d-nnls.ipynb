{
 "cells": [
  {
   "cell_type": "markdown",
   "metadata": {},
   "source": [
    "For a given display kernel $D(x_a, y_a, x_b, y_b)$, the display light field can be expressed as:\n",
    "$$ \\begin{align*}\n",
    "    L_{d}(x_a, y_a, x_b, y_b) = \\boldsymbol{c} * D(x_a, y_a, x_b, y_b) = \\sum_{i = 1}^{n^4} c_{i} \\, D_{i}(x_a, y_a, x_b, y_b) && (1)\\\\\n",
    "\\end{align*} $$\n",
    "\n",
    "The light field reaching the eye can then be described by:\n",
    "$$ \\begin{align*}\n",
    "    L_e(x_r, y_r, x_p, y_p) = \\sum_{i = 1}^{n^4} c_{i} \\, D_{i}\\Bigl(T_{f}(x_r, y_r, x_p, y_p)\\Bigr) && (2)\\\\\n",
    "\\end{align*} $$\n",
    "\n",
    "where $T_{f}$ is the transform from eye space to display space, which depends on the focus distance $f$.\n",
    "\n",
    "The retina image can be defined from the light field reaching the eye:\n",
    "$$ \\begin{align*}\n",
    "    E(x_r, y_r) = \\iint_{-\\infty}^{\\infty} L_{e}(x_r, y_r, x_p, y_p) \\, V(x_r, y_r, x_p, y_p) \\, \\mathrm{d}x_p\\, \\mathrm{d}y_p && (3)\\\\\n",
    "\\end{align*} $$\n",
    "\n",
    "From (2) and (3) we can find the retina image $E_{\\varphi}(x_r, y_r)$ induced by the display:\n",
    "$$ \\begin{align*}\n",
    "    E_{\\varphi}(x_r, y_r) &= \\iint_{-\\infty}^{\\infty} \\left( \\sum_{i = 1}^{n^4} c_{i} \\, D_{i}\\Bigl(T_{f}(x_r, y_r, x_p, y_p)\\Bigr) \\right) \\, V(x_r, y_r, x_p, y_p) \\, \\mathrm{d}x_p \\, \\mathrm{d}y_p && \\therefore\\\\\n",
    "    E_{\\varphi}(x_r, y_r) &= \\sum_{i = 1}^{n^4} c_{i} \\iint_{-\\infty}^{\\infty} \\, D_{i}\\Bigl(T_{f}(x_r, y_r, x_p, y_p)\\Bigr) \\, V(x_r, y_r, x_p, y_p) \\, \\mathrm{d}x_p \\, \\mathrm{d}y_p && \\therefore\\\\\n",
    "    E_{\\varphi}(x_r, y_r) &= \\sum_{i = 1}^{n^4} c_{i} \\, \\varphi_{i}(x_r, y_r) && (4)\\\\\n",
    "    \\text{where} \\quad \\varphi_{i}(x_r, y_r) &= \\iint_{-\\infty}^{\\infty} \\, D_{i}\\Bigl(T_{f}(x_r, y_r, x_p, y_p)\\Bigr) \\, V(x_r, y_r, x_p, y_p) \\, \\mathrm{d}x_p \\, \\mathrm{d}y_p && (5)\\\\\n",
    "\\end{align*} $$\n",
    "\n",
    "In matrix form:\n",
    "$$ \\begin{align*}\n",
    "    \\underset{[\\infty^2 \\times 1]}{\\begin{bmatrix} \\big| \\\\ \\big| \\\\ E_{\\varphi} \\\\ \\big| \\\\ \\big| \\end{bmatrix}} =\n",
    "    \\underset{[\\infty^2 \\times n^4]}{\\begin{bmatrix} \\big|&\\big|&\\big|& &\\big| \\\\ \\big|&\\big|&\\big|& &\\big| \\\\ \\varphi_{1}&\\varphi_{2}&\\varphi_{3}& \\cdots &\\varphi_{n^4} \\\\ \\big|&\\big|&\\big|& &\\big| \\\\ \\big|&\\big|&\\big|& &\\big| \\end{bmatrix}}\n",
    "    \\underset{[n^4 \\times 1]}{\\begin{bmatrix} c_1 \\\\ c_2 \\\\ c_3 \\\\ \\vdots \\\\ c_{n^4} \\end{bmatrix}} = A_{\\varphi} \\boldsymbol{c} && (6)\\\\\n",
    "\\end{align*} $$\n",
    "\n",
    "For a given desired retina image $E(x_r, y_r)$, we can formulate the following:\n",
    "$$ \\begin{align*}\n",
    "    \\boldsymbol{c} = \\text{arg min}_{\\boldsymbol{c}} \\, \\big\\lVert E - A_{\\varphi} \\boldsymbol{c} \\big\\rVert_2^2 = \\left( A_{\\varphi}^T A_{\\varphi} \\right)^{-1} A_{\\varphi}^T E && (7)\\\\\n",
    "    \\left[ A_{\\varphi}^T A_{\\varphi} \\right]_{i, j} = \\iint_{-\\infty}^{\\infty} \\varphi_{i}(x_r, y_r) \\, \\varphi_{j}(x_r, y_r) \\, \\mathrm{d}x_r \\, \\mathrm{d}y_r && (8)\\\\\n",
    "    \\left[ A_{\\varphi}^T E \\right]_{j} = \\iint_{-\\infty}^{\\infty} E(x_r, y_r) \\, \\varphi_{j}(x_r, y_r) \\, \\mathrm{d}x_r \\, \\mathrm{d}y_r && (9)\\\\\n",
    "\\end{align*} $$\n",
    "\n",
    "If both $D$ and $V$ are separable such as $D_{i}\\Bigl(T_{f}(x_r, y_r, x_p, y_p)\\Bigr) = D^x_{i}\\Bigl(T_{f}(x_r, x_p)\\Bigr) \\, D^y_{i}\\Bigl(T_{f}(y_r, y_p)\\Bigr)$\n",
    "and $V(x_r, y_r, x_p, y_p) = V^x(x_r, x_p) \\, V^y(y_r, y_p)$, then from (5) we have:\n",
    "\n",
    "$$ \\begin{align*}\n",
    "    \\varphi_{i}(x_r, y_r) &= \\iint_{-\\infty}^{\\infty} \\, D^x_{i}\\Bigl(T_{f}(x_r, x_p)\\Bigr) \\, D^y_{i}\\Bigl(T_{f}(y_r, y_p)\\Bigr) \\, V^x(x_r, x_p) \\, V^y(y_r, y_p) \\, \\mathrm{d}x_p \\, \\mathrm{d}y_p && \\therefore\\\\\n",
    "    \\varphi_{i}(x_r, y_r) &= \\left( \\int_{-\\infty}^{\\infty} D^x_{i}\\Bigl(T_{f}(x_r, x_p)\\Bigr) \\, V^x(x_r, x_p) \\, \\mathrm{d}x_p \\right)\n",
    "    \\left( \\int_{-\\infty}^{\\infty} D^y_{i}\\Bigl(T_{f}(y_r, y_p)\\Bigr) \\, V^y(y_r, y_p) \\, \\mathrm{d}y_p \\right) && \\therefore\\\\\n",
    "    \\varphi_{i}(x_r, y_r) &= \\varphi^x_{i}(x_r) \\, \\varphi^y_{i}(y_r) && (10)\\\\\n",
    "    \\text{where} \\quad \\varphi^x_{i}(x_r) &= \\int_{-\\infty}^{\\infty} D^x_{i}\\Bigl(T_{f}(x_r, x_p)\\Bigr) \\, V^x(x_r, x_p) \\, \\mathrm{d}x_p && (11)\\\\\n",
    "    \\text{and} \\quad \\varphi^y_{i}(y_r) &= \\int_{-\\infty}^{\\infty} D^y_{i}\\Bigl(T_{f}(y_r, y_p)\\Bigr) \\, V^y(y_r, y_p) \\, \\mathrm{d}y_p && (12)\\\\\n",
    "\\end{align*} $$\n",
    "\n",
    "The matrix terms from (8) becomes:\n",
    "$$ \\begin{align*}\n",
    "    \\left[ A_{\\varphi}^T A_{\\varphi} \\right]_{i, j} = \\left( \\int_{-\\infty}^{\\infty} \\varphi^x_{i}(x_r) \\, \\varphi^x_{j}(x_r) \\, \\mathrm{d}x_r \\right)\n",
    "    \\left( \\int_{-\\infty}^{\\infty} \\varphi^y_{i}(y_r) \\, \\varphi^y_{j}(y_r) \\, \\mathrm{d}y_r \\right) && (13)\\\\\n",
    "\\end{align*} $$\n",
    "\n",
    "But (9) is not generally separable:\n",
    "$$ \\begin{align*}\n",
    "   \\left[ A_{\\varphi}^T E \\right]_{j} = \\int_{-\\infty}^{\\infty} \\left( \\int_{-\\infty}^{\\infty} E(x_r, y_r) \\, \\varphi^x_{j}(x_r) \\, \\mathrm{d}x_r \\right) \\varphi^y_{j}(y_r) \\, \\mathrm{d}y_r && (14)\\\\\n",
    "\\end{align*} $$\n",
    "\n",
    "However, if $E$ is composed of samples convolved with a separable kernel $R$, then:\n",
    "$$ \\begin{align*}\n",
    "   E(x_r, y_r) &= \\sum_{k = 1}^{n_r^2} e_k \\, R^x_k(x_r) \\, R^y_k(y_r) && (15)\\\\\n",
    "   \\left[ A_{\\varphi}^T E \\right]_{j} &= \\sum_{k = 1}^{n_r^2} e_k \\left( \\int_{-\\infty}^{\\infty} R^x_k(x_r) \\, \\varphi^x_{j}(x_r) \\, \\mathrm{d}x_r \\right)\n",
    "   \\left( \\int_{-\\infty}^{\\infty} R^y_k(y_r) \\, \\varphi^y_{j}(y_r) \\, \\mathrm{d}y_r \\right) && (16)\\\\\n",
    "\\end{align*} $$\n",
    "\n",
    "Non-negative multiplicative update:\n",
    "$$ \\begin{align*}\n",
    "   \\boldsymbol{c} \\leftarrow \\boldsymbol{c} \\, \\circ \\, \\frac{A_{\\varphi}^T E}{A_{\\varphi}^T A_{\\varphi} \\boldsymbol{c}} && (17)\\\\\n",
    "\\end{align*} $$"
   ]
  },
  {
   "cell_type": "code",
   "execution_count": 1,
   "metadata": {},
   "outputs": [],
   "source": [
    "import os\n",
    "os.environ['CUPY_ACCELERATORS'] = 'cutensor'\n",
    "import numpy as np\n",
    "import cupy as cp\n",
    "from scipy import misc, optimize, fft as scipy_fft\n",
    "from matplotlib import pyplot, colors, cm\n",
    "import embree\n",
    "import trimesh\n",
    "from PIL import Image\n",
    "from IPython.display import display\n",
    "from tqdm.notebook import tqdm\n",
    "\n",
    "cp.cuda.set_pinned_memory_allocator(None)\n",
    "mempool = cp.get_default_memory_pool()\n",
    "\n",
    "def sampling_lattice(res, pitch=1.0):\n",
    "    \"\"\"Return an array of shape (res,) containing the coordinates of a sampling lattice with 0 as one of the samples.\"\"\"\n",
    "    return scipy_fft.fftshift(scipy_fft.fftfreq(res).astype(np.float32) * (res * pitch))\n",
    "\n",
    "def display_image(values, color_map=None, absolute=True, normalize=True, shift=False, flip=False):\n",
    "    \"\"\"Display an array as an image using a color map. The image can be normalized, shifted and/or flipped.\"\"\"\n",
    "    values = np.abs(values) if absolute else values\n",
    "    values = scipy_fft.fftshift(values) if shift else values\n",
    "    values = np.flip(values, (0, 1)) if flip else values\n",
    "    if len(values.shape) < 3:\n",
    "        values = values * np.nan_to_num(1.0 / np.amax(values)) if normalize else values\n",
    "        values = cm.get_cmap(color_map)(values, bytes=True)\n",
    "    else:\n",
    "        values = (values * np.nan_to_num(255.0 / np.amax(values))).astype(np.uint8) if normalize else values\n",
    "    display(Image.fromarray(values).transpose(Image.ROTATE_90))\n",
    "\n",
    "z_r = -17.0\n",
    "z_a = 10.0\n",
    "z_b = 30.0\n",
    "\n",
    "size_r = 5.5\n",
    "size_p = 5.0\n",
    "size_a = size_r * z_a / abs(z_r) + size_p\n",
    "size_b = size_r * z_b / abs(z_r) + size_p\n",
    "\n",
    "n_r = 512\n",
    "n_a = 45\n",
    "n_b = 45\n",
    "\n",
    "w_r = size_r / n_r\n",
    "w_a = size_a / n_a\n",
    "w_b = size_b / n_b\n",
    "\n",
    "z_f = 220.0\n",
    "\n",
    "n_rays = 1024"
   ]
  },
  {
   "cell_type": "code",
   "execution_count": 2,
   "metadata": {},
   "outputs": [],
   "source": [
    "class Scene3D:\n",
    "    def __init__(self, filename):\n",
    "        self.trimesh = trimesh.load_mesh(filename)\n",
    "        self.trimesh.apply_transform(trimesh.transformations.rotation_matrix(1.2, [0, 1, 0])) # <== Rotation\n",
    "        if isinstance(self.trimesh, trimesh.Scene):\n",
    "            self.meshes = list(self.trimesh.geometry.values())\n",
    "        if isinstance(self.trimesh, trimesh.Trimesh):\n",
    "            self.meshes = [self.trimesh]\n",
    "\n",
    "        self.device = embree.Device()\n",
    "        self.scene = self.device.make_scene()\n",
    "        for mesh in self.meshes:\n",
    "            geometry = self.device.make_geometry(embree.GeometryType.Triangle)\n",
    "            vertex_buffer = geometry.set_new_buffer(embree.BufferType.Vertex, 0, embree.Format.Float3, 3 * np.dtype('float32').itemsize, mesh.vertices.shape[0])\n",
    "            index_buffer = geometry.set_new_buffer(embree.BufferType.Index, 0, embree.Format.Uint3, 3 * np.dtype('uint32').itemsize, mesh.faces.shape[0])\n",
    "            vertex_buffer[:] = mesh.vertices + [0.0, -35.0, 300.0] # <== Translation\n",
    "            index_buffer[:] = mesh.faces\n",
    "            geometry.commit()\n",
    "            self.scene.attach_geometry(geometry)\n",
    "            geometry.release()\n",
    "        self.scene.commit()\n",
    "\n",
    "    def rayCast(self, ray_origins, ray_directions):\n",
    "        rayhit = embree.RayHit1M(ray_origins.shape[0])\n",
    "        rayhit.org[:] = ray_origins\n",
    "        rayhit.dir[:] = ray_directions\n",
    "        rayhit.tnear[:] = 0\n",
    "        rayhit.tfar[:] = np.inf\n",
    "        rayhit.flags[:] = 0\n",
    "        rayhit.prim_id[:] = embree.INVALID_GEOMETRY_ID\n",
    "        rayhit.geom_id[:] = embree.INVALID_GEOMETRY_ID\n",
    "\n",
    "        context = embree.IntersectContext()\n",
    "        self.scene.intersect1M(context, rayhit)\n",
    "\n",
    "        ray_colors = np.zeros((ray_origins.shape[0], 4), dtype=np.uint8)\n",
    "        for mesh_id in range(len(self.meshes)):\n",
    "            mask = rayhit.geom_id == mesh_id\n",
    "            hit_uv = rayhit.uv[mask, np.newaxis, :]\n",
    "            texture_uv = self.meshes[mesh_id].visual.uv[self.meshes[mesh_id].faces[rayhit.prim_id[mask], :], :]\n",
    "            interpolated_uv = (1.0 - hit_uv[..., 0] - hit_uv[..., 1]) * texture_uv[:, 0, :] + hit_uv[..., 0] * texture_uv[:, 1, :] + hit_uv[..., 1] * texture_uv[:, 2, :]\n",
    "            ray_colors[mask] = trimesh.visual.color.uv_to_color(interpolated_uv, self.meshes[mesh_id].visual.material.image)\n",
    "        return ray_colors\n",
    "    \n",
    "    def release(self):\n",
    "        self.scene.release()\n",
    "        self.device.release()"
   ]
  },
  {
   "cell_type": "code",
   "execution_count": 3,
   "metadata": {},
   "outputs": [
    {
     "name": "stdout",
     "output_type": "stream",
     "text": [
      "Computing retina image directly from scene...\n"
     ]
    },
    {
     "data": {
      "application/vnd.jupyter.widget-view+json": {
       "model_id": "f289eb362571481fb5f76af9a0e12c67",
       "version_major": 2,
       "version_minor": 0
      },
      "text/plain": [
       "  0%|          | 0/262144 [00:00<?, ?it/s]"
      ]
     },
     "metadata": {},
     "output_type": "display_data"
    },
    {
     "data": {
      "image/png": "[encoded data removed]",
      "text/plain": [
       "<PIL.Image.Image image mode=RGB size=512x512 at 0x1E520844FA0>"
      ]
     },
     "metadata": {},
     "output_type": "display_data"
    },
    {
     "name": "stdout",
     "output_type": "stream",
     "text": [
      "Wall time: 2min 58s\n"
     ]
    }
   ],
   "source": [
    "%%time\n",
    "print('Computing retina image directly from scene...')\n",
    "\n",
    "retina_lattice = sampling_lattice(n_r, w_r)\n",
    "\n",
    "retina_image = np.empty((n_r, n_r, 3))\n",
    "\n",
    "scene = Scene3D('../models/teapot/teapot.obj')\n",
    "\n",
    "for x_index, y_index in tqdm(np.ndindex(n_r, n_r), total=n_r*n_r):\n",
    "    retina_sample = np.array([retina_lattice[x_index], retina_lattice[y_index], z_r])\n",
    "    focus_samples = np.tile(retina_sample * (z_f / z_r), (n_rays, 1))\n",
    "    pupil_samples = np.stack(np.broadcast_arrays(np.random.uniform(-size_p/2, size_p/2, n_rays), np.random.uniform(-size_p/2, size_p/2, n_rays), 0.0), axis=-1)\n",
    "    ray_colors = scene.rayCast(pupil_samples, focus_samples - pupil_samples)[..., 0:3]\n",
    "    retina_image[x_index, y_index] = np.sum(ray_colors / n_rays, axis=0)\n",
    "    \n",
    "scene.release()\n",
    "\n",
    "display_image(retina_image, flip=True)"
   ]
  },
  {
   "cell_type": "code",
   "execution_count": 4,
   "metadata": {},
   "outputs": [
    {
     "name": "stdout",
     "output_type": "stream",
     "text": [
      "Computing all 2d functions phi(x_r)...\n",
      "Wall time: 3.01 ms\n"
     ]
    }
   ],
   "source": [
    "%%time\n",
    "print('Computing all 2d functions phi(x_r)...')\n",
    "\n",
    "x_a = sampling_lattice(n_a, w_a)[:, np.newaxis]\n",
    "x_b = sampling_lattice(n_b, w_b)[np.newaxis, :]\n",
    "\n",
    "x_r = (1 - z_b/z_f) * z_r/(z_a - z_b) * x_a + (1 - z_a/z_f) * z_r/(z_b - z_a) * x_b\n",
    "x_p = z_b/(z_b - z_a) * x_a + z_a/(z_a - z_b) * x_b\n",
    "\n",
    "slope_a = np.reciprocal((1/z_f - 1/z_a) * z_r)\n",
    "slope_b = np.reciprocal((1/z_f - 1/z_b) * z_r)\n",
    "\n",
    "height_a = np.abs(np.reciprocal(1 - z_a/z_f) * w_a/2)\n",
    "height_b = np.abs(np.reciprocal(1 - z_b/z_f) * w_b/2)\n",
    "\n",
    "intervals = (np.array([-1, 1])[:, np.newaxis, np.newaxis] * np.array([height_b, height_a]) * np.sign(slope_a - slope_b) + np.array([-1, 1])[np.newaxis, :, np.newaxis] * np.array([height_a, -height_b])) / (slope_a - slope_b)\n",
    "slopes = np.array([[slope_a, slope_b], [slope_a, slope_b]])\n",
    "heights = np.array([[height_a, height_b], [-height_a, -height_b]])\n",
    "\n",
    "intervals = intervals[..., np.newaxis, np.newaxis, np.newaxis]\n",
    "slopes = slopes[..., np.newaxis, np.newaxis, np.newaxis]\n",
    "heights = heights[..., np.newaxis, np.newaxis, np.newaxis]\n",
    "\n",
    "intervals = np.clip(intervals + x_r, -size_r/2, size_r/2)\n",
    "heights = heights + x_p - slopes * x_r\n",
    "\n",
    "left_intersection = (-np.sign(slopes) * size_p/2 - heights) / slopes\n",
    "right_intersection = (np.sign(slopes) * size_p/2 - heights) / slopes\n",
    "\n",
    "phi_intervals = np.stack([np.concatenate(np.broadcast_arrays(-np.inf, left_intersection, right_intersection), axis=2), np.concatenate(np.broadcast_arrays(left_intersection, right_intersection, np.inf), axis=2)])\n",
    "phi_intervals = np.clip(phi_intervals, intervals[0], intervals[1])\n",
    "\n",
    "phi_slopes = np.concatenate(np.broadcast_arrays(0.0, slopes, 0.0), axis=2)\n",
    "phi_heights = np.concatenate(np.broadcast_arrays(-np.sign(slopes) * size_p/2, heights, np.sign(slopes) * size_p/2), axis=2)\n",
    "\n",
    "phi_slopes[1] *= -1\n",
    "phi_heights[1] *= -1\n",
    "\n",
    "phi_slopes = phi_slopes.reshape(12, 1, 1)\n",
    "phi_heights = phi_heights.reshape(12, n_a, n_b)\n",
    "phi_intervals = phi_intervals.reshape(2, 12, n_a, n_b)"
   ]
  },
  {
   "cell_type": "code",
   "execution_count": 5,
   "metadata": {},
   "outputs": [
    {
     "name": "stdout",
     "output_type": "stream",
     "text": [
      "Removing null functions from base...\n",
      "Base n =  637     n² =  405769\n",
      "Wall time: 197 ms\n"
     ]
    }
   ],
   "source": [
    "%%time\n",
    "print('Removing null functions from base...')\n",
    "\n",
    "antiderivatives = phi_slopes * np.power(phi_intervals, 2)/2 + phi_heights * phi_intervals\n",
    "integrals = np.sum(antiderivatives[1] - antiderivatives[0], axis=0)\n",
    "\n",
    "phi_base = np.nonzero(integrals)\n",
    "n_base = len(phi_base[0])\n",
    "\n",
    "print('Base n = ', n_base, '    n² = ', n_base*n_base)\n",
    "\n",
    "phi_slopes = cp.array(phi_slopes[..., 0])\n",
    "phi_heights = cp.array(phi_heights[..., phi_base[0], phi_base[1]])\n",
    "phi_intervals = cp.array(phi_intervals[..., phi_base[0], phi_base[1]])"
   ]
  },
  {
   "cell_type": "code",
   "execution_count": 9,
   "metadata": {},
   "outputs": [
    {
     "name": "stdout",
     "output_type": "stream",
     "text": [
      "Computing naive display coefficients...\n"
     ]
    },
    {
     "data": {
      "application/vnd.jupyter.widget-view+json": {
       "model_id": "e86be196273b45bdb8e99cd758429559",
       "version_major": 2,
       "version_minor": 0
      },
      "text/plain": [
       "  0%|          | 0/405769 [00:00<?, ?it/s]"
      ]
     },
     "metadata": {},
     "output_type": "display_data"
    },
    {
     "name": "stdout",
     "output_type": "stream",
     "text": [
      "Wall time: 4min 55s\n"
     ]
    }
   ],
   "source": [
    "%%time\n",
    "print('Computing naive display coefficients...')\n",
    "\n",
    "a_lattice = sampling_lattice(n_a, w_a)\n",
    "b_lattice = sampling_lattice(n_b, w_b)\n",
    "\n",
    "display_coefficients = np.empty((n_base, n_base, 3))\n",
    "\n",
    "scene = Scene3D('../models/teapot/teapot.obj')\n",
    "\n",
    "for x_index, y_index in tqdm(np.ndindex(n_base, n_base), total=n_base*n_base):\n",
    "    a_sample = np.array([a_lattice[phi_base[0][x_index]], a_lattice[phi_base[0][y_index]], z_a])\n",
    "    b_sample = np.array([b_lattice[phi_base[1][x_index]], b_lattice[phi_base[1][y_index]], z_b])\n",
    "    a_samples = a_sample + np.stack(np.broadcast_arrays(np.random.uniform(-w_a/2, w_a/2, n_rays), np.random.uniform(-w_a/2, w_a/2, n_rays), 0.0), axis=-1)\n",
    "    b_samples = b_sample + np.stack(np.broadcast_arrays(np.random.uniform(-w_b/2, w_b/2, n_rays), np.random.uniform(-w_b/2, w_b/2, n_rays), 0.0), axis=-1)\n",
    "    ray_colors = scene.rayCast(a_samples, b_samples - a_samples)[..., 0:3]\n",
    "    display_coefficients[x_index, y_index] = np.sum(ray_colors / n_rays, axis=0)\n",
    "\n",
    "scene.release()\n",
    "\n",
    "display_coefficients = cp.array(display_coefficients)"
   ]
  },
  {
   "cell_type": "code",
   "execution_count": 12,
   "metadata": {},
   "outputs": [
    {
     "name": "stdout",
     "output_type": "stream",
     "text": [
      "Computing retina image from naive display coefficients...\n"
     ]
    },
    {
     "data": {
      "application/vnd.jupyter.widget-view+json": {
       "model_id": "f54acd99296246769f40297e1b818aac",
       "version_major": 2,
       "version_minor": 0
      },
      "text/plain": [
       "  0%|          | 0/262144 [00:00<?, ?it/s]"
      ]
     },
     "metadata": {},
     "output_type": "display_data"
    },
    {
     "data": {
      "image/png": "[encoded data removed]",
      "text/plain": [
       "<PIL.Image.Image image mode=RGB size=512x512 at 0x1E519B6E400>"
      ]
     },
     "metadata": {},
     "output_type": "display_data"
    },
    {
     "name": "stdout",
     "output_type": "stream",
     "text": [
      "Wall time: 2min 30s\n"
     ]
    }
   ],
   "source": [
    "%%time\n",
    "print('Computing retina image from naive display coefficients...')\n",
    "\n",
    "retina_lattice = cp.array(sampling_lattice(n_r, w_r))\n",
    "phi_1d = cp.sum((phi_slopes[..., np.newaxis] * retina_lattice + phi_heights[..., np.newaxis]) * (retina_lattice > phi_intervals[0, ..., np.newaxis]) * (retina_lattice < phi_intervals[1, ..., np.newaxis]), axis=0)\n",
    "\n",
    "retina_image = np.empty((n_r, n_r, 3))\n",
    "for x_index, y_index in tqdm(np.ndindex(n_r, n_r), total=n_r*n_r):\n",
    "    retina_image[x_index, y_index] = cp.sum(display_coefficients * phi_1d[:, np.newaxis, x_index, np.newaxis] * phi_1d[np.newaxis, :, y_index, np.newaxis], axis=(0,1)).get()\n",
    "\n",
    "display_image(retina_image, flip=True)"
   ]
  },
  {
   "cell_type": "code",
   "execution_count": 13,
   "metadata": {},
   "outputs": [
    {
     "name": "stdout",
     "output_type": "stream",
     "text": [
      "Computing AtA...\n",
      "Combined intervals:  (2, 12, 637, 12, 637) float64 | total size: 0.8706858158111572 GiB\n",
      "AtA 2D:  (637, 637) float64 | total size: 0.003023214638233185 GiB\n",
      "Wall time: 556 ms\n"
     ]
    }
   ],
   "source": [
    "%%time\n",
    "print('Computing AtA...')\n",
    "\n",
    "in_intervals = phi_intervals[:, :, :, np.newaxis, np.newaxis]\n",
    "out_intervals = phi_intervals[:, np.newaxis, np.newaxis, :, :]\n",
    "\n",
    "in_slopes = phi_slopes[:, :, np.newaxis, np.newaxis]\n",
    "out_slopes = phi_slopes[np.newaxis, np.newaxis, :, :]\n",
    "\n",
    "in_heights = phi_heights[:, :, np.newaxis, np.newaxis]\n",
    "out_heights = phi_heights[np.newaxis, np.newaxis, :, :]\n",
    "\n",
    "combined_intervals = cp.clip(in_intervals, out_intervals[0], out_intervals[1])\n",
    "\n",
    "print('Combined intervals: ', combined_intervals.shape, combined_intervals.dtype, '| total size:', combined_intervals.nbytes/2**30, 'GiB')\n",
    "\n",
    "order_2 = in_slopes * out_slopes\n",
    "order_1 = in_slopes * out_heights + in_heights * out_slopes\n",
    "order_0 = in_heights * out_heights\n",
    "\n",
    "antiderivatives = order_2 * cp.power(combined_intervals, 3)/3 + order_1 * cp.power(combined_intervals, 2)/2 + order_0 * combined_intervals\n",
    "AtA_2d = cp.sum(antiderivatives[1] - antiderivatives[0], axis=(0, 2))\n",
    "\n",
    "print('AtA 2D: ', AtA_2d.shape, AtA_2d.dtype, '| total size:', AtA_2d.nbytes/2**30, 'GiB')\n",
    "\n",
    "del in_intervals\n",
    "del out_intervals\n",
    "del in_slopes\n",
    "del out_slopes\n",
    "del in_heights\n",
    "del out_heights\n",
    "del combined_intervals\n",
    "del order_2\n",
    "del order_1\n",
    "del order_0\n",
    "del antiderivatives"
   ]
  },
  {
   "cell_type": "code",
   "execution_count": 14,
   "metadata": {},
   "outputs": [
    {
     "name": "stdout",
     "output_type": "stream",
     "text": [
      "Computing the inverse AtA...\n",
      "Wall time: 616 ms\n"
     ]
    }
   ],
   "source": [
    "%%time\n",
    "print('Computing the inverse AtA...')\n",
    "\n",
    "inverse_AtA_2d = np.linalg.inv(AtA_2d)"
   ]
  },
  {
   "cell_type": "code",
   "execution_count": 16,
   "metadata": {},
   "outputs": [
    {
     "name": "stdout",
     "output_type": "stream",
     "text": [
      "Computing AtE...\n"
     ]
    },
    {
     "data": {
      "application/vnd.jupyter.widget-view+json": {
       "model_id": "0e7e3cd9328b4b87a79298a0d9cd276f",
       "version_major": 2,
       "version_minor": 0
      },
      "text/plain": [
       "  0%|          | 0/405769 [00:00<?, ?it/s]"
      ]
     },
     "metadata": {},
     "output_type": "display_data"
    },
    {
     "name": "stdout",
     "output_type": "stream",
     "text": [
      "Wall time: 23min 56s\n"
     ]
    }
   ],
   "source": [
    "%%time\n",
    "print('Computing AtE...')\n",
    "\n",
    "AtE = cp.empty((n_base, n_base, 3))\n",
    "\n",
    "scene = Scene3D('../models/teapot/teapot.obj')\n",
    "\n",
    "for x_index, y_index in tqdm(np.ndindex(n_base, n_base), total=n_base*n_base):\n",
    "    pupil_samples = np.stack(np.broadcast_arrays(np.random.uniform(-size_p/2, size_p/2, n_rays), np.random.uniform(-size_p/2, size_p/2, n_rays), 0.0), axis=-1)\n",
    "    retina_samples = np.stack(np.broadcast_arrays(np.random.uniform(-size_r/2, size_r/2, n_rays), np.random.uniform(-size_r/2, size_r/2, n_rays), 0.0), axis=-1)\n",
    "    focus_samples = retina_samples * (z_f / z_r)\n",
    "    \n",
    "    ray_colors = scene.rayCast(pupil_samples, focus_samples - pupil_samples)[..., 0:3]\n",
    "\n",
    "    x_r = cp.array(retina_samples[:, 0])\n",
    "    y_r = cp.array(retina_samples[:, 1])\n",
    "    phi_x = cp.sum((phi_slopes[:, 0, np.newaxis] * x_r + phi_heights[:, x_index, np.newaxis]) * (x_r > phi_intervals[0, :, x_index, np.newaxis]) * (x_r < phi_intervals[1, :, x_index, np.newaxis]), axis=0)\n",
    "    phi_y = cp.sum((phi_slopes[:, 0, np.newaxis] * y_r + phi_heights[:, y_index, np.newaxis]) * (y_r > phi_intervals[0, :, y_index, np.newaxis]) * (y_r < phi_intervals[1, :, y_index, np.newaxis]), axis=0)\n",
    "\n",
    "    AtE[x_index, y_index] = cp.sum(cp.array(ray_colors) * phi_x[:, np.newaxis] * phi_y[:, np.newaxis], axis=0)\n",
    "\n",
    "scene.release()"
   ]
  },
  {
   "cell_type": "code",
   "execution_count": 17,
   "metadata": {},
   "outputs": [
    {
     "name": "stdout",
     "output_type": "stream",
     "text": [
      "Computing observer-aware display coefficients through the inverse method...\n"
     ]
    },
    {
     "data": {
      "application/vnd.jupyter.widget-view+json": {
       "model_id": "018a35be7e0a483ba58afde369e5cd5e",
       "version_major": 2,
       "version_minor": 0
      },
      "text/plain": [
       "  0%|          | 0/405769 [00:00<?, ?it/s]"
      ]
     },
     "metadata": {},
     "output_type": "display_data"
    },
    {
     "name": "stdout",
     "output_type": "stream",
     "text": [
      "Wall time: 2min 45s\n"
     ]
    }
   ],
   "source": [
    "%%time\n",
    "print('Computing observer-aware display coefficients through the inverse method...')\n",
    "\n",
    "display_coefficients = cp.empty((n_base, n_base, 3))\n",
    "\n",
    "for x_index, y_index in tqdm(np.ndindex(n_base, n_base), total=n_base*n_base):\n",
    "    display_coefficients[x_index, y_index] = cp.sum(AtE * inverse_AtA_2d[x_index, :, np.newaxis, np.newaxis] * inverse_AtA_2d[y_index, np.newaxis, :, np.newaxis], axis=(0,1))"
   ]
  },
  {
   "cell_type": "code",
   "execution_count": 18,
   "metadata": {},
   "outputs": [
    {
     "name": "stdout",
     "output_type": "stream",
     "text": [
      "Computing retina image from observer-aware display coefficients...\n"
     ]
    },
    {
     "data": {
      "application/vnd.jupyter.widget-view+json": {
       "model_id": "31cc7c8dba5a486fb21b2daf682698d4",
       "version_major": 2,
       "version_minor": 0
      },
      "text/plain": [
       "  0%|          | 0/262144 [00:00<?, ?it/s]"
      ]
     },
     "metadata": {},
     "output_type": "display_data"
    },
    {
     "name": "stderr",
     "output_type": "stream",
     "text": [
      "C:\\Users\\raoli\\AppData\\Local\\Temp/ipykernel_20540/3309517315.py:29: RuntimeWarning: divide by zero encountered in double_scalars\n",
      "  values = (values * np.nan_to_num(255.0 / np.amax(values))).astype(np.uint8) if normalize else values\n"
     ]
    },
    {
     "data": {
      "image/png": "[encoded data removed]",
      "text/plain": [
       "<PIL.Image.Image image mode=RGB size=512x512 at 0x1E5291C7220>"
      ]
     },
     "metadata": {},
     "output_type": "display_data"
    },
    {
     "name": "stdout",
     "output_type": "stream",
     "text": [
      "Wall time: 2min 32s\n"
     ]
    }
   ],
   "source": [
    "%%time\n",
    "print('Computing retina image from observer-aware display coefficients...')\n",
    "\n",
    "retina_lattice = cp.array(sampling_lattice(n_r, w_r))\n",
    "phi_1d = cp.sum((phi_slopes[..., np.newaxis] * retina_lattice + phi_heights[..., np.newaxis]) * (retina_lattice > phi_intervals[0, ..., np.newaxis]) * (retina_lattice < phi_intervals[1, ..., np.newaxis]), axis=0)\n",
    "\n",
    "retina_image = np.empty((n_r, n_r, 3))\n",
    "for x_index, y_index in tqdm(np.ndindex(n_r, n_r), total=n_r*n_r):\n",
    "    retina_image[x_index, y_index] = cp.sum(display_coefficients * phi_1d[:, np.newaxis, x_index, np.newaxis] * phi_1d[np.newaxis, :, y_index, np.newaxis], axis=(0,1)).get()\n",
    "\n",
    "display_image(retina_image, flip=True)"
   ]
  },
  {
   "cell_type": "code",
   "execution_count": 20,
   "metadata": {},
   "outputs": [
    {
     "name": "stdout",
     "output_type": "stream",
     "text": [
      "Computing non-negative observer-aware display coefficients through the multiplicative update rule...\n"
     ]
    },
    {
     "data": {
      "application/vnd.jupyter.widget-view+json": {
       "model_id": "2d6d5719f19241beb16ebe4267829352",
       "version_major": 2,
       "version_minor": 0
      },
      "text/plain": [
       "  0%|          | 0/405769 [00:00<?, ?it/s]"
      ]
     },
     "metadata": {},
     "output_type": "display_data"
    },
    {
     "data": {
      "application/vnd.jupyter.widget-view+json": {
       "model_id": "2916fc64712e4fabbdca90df9e34f1d1",
       "version_major": 2,
       "version_minor": 0
      },
      "text/plain": [
       "  0%|          | 0/405769 [00:00<?, ?it/s]"
      ]
     },
     "metadata": {},
     "output_type": "display_data"
    },
    {
     "data": {
      "application/vnd.jupyter.widget-view+json": {
       "model_id": "451a7ac1e89c42d6bac11d1c606c63e9",
       "version_major": 2,
       "version_minor": 0
      },
      "text/plain": [
       "  0%|          | 0/405769 [00:00<?, ?it/s]"
      ]
     },
     "metadata": {},
     "output_type": "display_data"
    },
    {
     "data": {
      "application/vnd.jupyter.widget-view+json": {
       "model_id": "745ada4f8a104b22b5bbd6821fba0baa",
       "version_major": 2,
       "version_minor": 0
      },
      "text/plain": [
       "  0%|          | 0/405769 [00:00<?, ?it/s]"
      ]
     },
     "metadata": {},
     "output_type": "display_data"
    },
    {
     "data": {
      "application/vnd.jupyter.widget-view+json": {
       "model_id": "9a8d0e7ca8b844568472d6144d10550c",
       "version_major": 2,
       "version_minor": 0
      },
      "text/plain": [
       "  0%|          | 0/405769 [00:00<?, ?it/s]"
      ]
     },
     "metadata": {},
     "output_type": "display_data"
    },
    {
     "data": {
      "application/vnd.jupyter.widget-view+json": {
       "model_id": "7370dff484174302ac87ea6705e862e8",
       "version_major": 2,
       "version_minor": 0
      },
      "text/plain": [
       "  0%|          | 0/405769 [00:00<?, ?it/s]"
      ]
     },
     "metadata": {},
     "output_type": "display_data"
    },
    {
     "data": {
      "application/vnd.jupyter.widget-view+json": {
       "model_id": "f0692d6033284b85ba7703982695fc7f",
       "version_major": 2,
       "version_minor": 0
      },
      "text/plain": [
       "  0%|          | 0/405769 [00:00<?, ?it/s]"
      ]
     },
     "metadata": {},
     "output_type": "display_data"
    },
    {
     "data": {
      "application/vnd.jupyter.widget-view+json": {
       "model_id": "74ec707e916140e2912459e8968f23d5",
       "version_major": 2,
       "version_minor": 0
      },
      "text/plain": [
       "  0%|          | 0/405769 [00:00<?, ?it/s]"
      ]
     },
     "metadata": {},
     "output_type": "display_data"
    },
    {
     "data": {
      "application/vnd.jupyter.widget-view+json": {
       "model_id": "6e922e80735a4b5bb75fb965d622209c",
       "version_major": 2,
       "version_minor": 0
      },
      "text/plain": [
       "  0%|          | 0/405769 [00:00<?, ?it/s]"
      ]
     },
     "metadata": {},
     "output_type": "display_data"
    },
    {
     "data": {
      "application/vnd.jupyter.widget-view+json": {
       "model_id": "2e47efb847fb4eaabcda9faa2bfcbac3",
       "version_major": 2,
       "version_minor": 0
      },
      "text/plain": [
       "  0%|          | 0/405769 [00:00<?, ?it/s]"
      ]
     },
     "metadata": {},
     "output_type": "display_data"
    },
    {
     "name": "stdout",
     "output_type": "stream",
     "text": [
      "Wall time: 28min 59s\n"
     ]
    }
   ],
   "source": [
    "%%time\n",
    "print('Computing non-negative observer-aware display coefficients through the multiplicative update rule...')\n",
    "\n",
    "display_coefficients = 1.0 - cp.random.rand(n_base, n_base, 3)\n",
    "\n",
    "for iteration in range(10):\n",
    "    print('Iteration ', iteration+1)\n",
    "    next_coefficients = cp.empty((n_base, n_base, 3))\n",
    "    for x_index, y_index in tqdm(np.ndindex(n_base, n_base), total=n_base*n_base, leave=False):\n",
    "        AtAc = cp.sum(display_coefficients * AtA_2d[x_index, :, np.newaxis, np.newaxis] * AtA_2d[y_index, np.newaxis, :, np.newaxis], axis=(0,1))\n",
    "        next_coefficients[x_index, y_index] = display_coefficients[x_index, y_index] * AtE[x_index, y_index] / (AtAc + cp.finfo(AtAc.dtype).eps)\n",
    "    display_coefficients = next_coefficients"
   ]
  },
  {
   "cell_type": "code",
   "execution_count": 22,
   "metadata": {},
   "outputs": [
    {
     "name": "stdout",
     "output_type": "stream",
     "text": [
      "Computing retina image from non-negative observer-aware display coefficients...\n"
     ]
    },
    {
     "data": {
      "application/vnd.jupyter.widget-view+json": {
       "model_id": "61ec85941f9e41e2be9aa833abc99510",
       "version_major": 2,
       "version_minor": 0
      },
      "text/plain": [
       "  0%|          | 0/262144 [00:00<?, ?it/s]"
      ]
     },
     "metadata": {},
     "output_type": "display_data"
    },
    {
     "name": "stderr",
     "output_type": "stream",
     "text": [
      "C:\\Users\\raoli\\AppData\\Local\\Temp/ipykernel_20540/3309517315.py:29: RuntimeWarning: divide by zero encountered in double_scalars\n",
      "  values = (values * np.nan_to_num(255.0 / np.amax(values))).astype(np.uint8) if normalize else values\n"
     ]
    },
    {
     "data": {
      "image/png": "[encoded data removed]",
      "text/plain": [
       "<PIL.Image.Image image mode=RGB size=512x512 at 0x1E519B6EE80>"
      ]
     },
     "metadata": {},
     "output_type": "display_data"
    },
    {
     "name": "stdout",
     "output_type": "stream",
     "text": [
      "Wall time: 2min 32s\n"
     ]
    }
   ],
   "source": [
    "%%time\n",
    "print('Computing retina image from non-negative observer-aware display coefficients...')\n",
    "\n",
    "retina_lattice = cp.array(sampling_lattice(n_r, w_r))\n",
    "phi_1d = cp.sum((phi_slopes[..., np.newaxis] * retina_lattice + phi_heights[..., np.newaxis]) * (retina_lattice > phi_intervals[0, ..., np.newaxis]) * (retina_lattice < phi_intervals[1, ..., np.newaxis]), axis=0)\n",
    "\n",
    "retina_image = np.empty((n_r, n_r, 3))\n",
    "for x_index, y_index in tqdm(np.ndindex(n_r, n_r), total=n_r*n_r):\n",
    "    retina_image[x_index, y_index] = cp.sum(display_coefficients * phi_1d[:, np.newaxis, x_index, np.newaxis] * phi_1d[np.newaxis, :, y_index, np.newaxis], axis=(0,1)).get()\n",
    "\n",
    "display_image(retina_image, flip=True)"
   ]
  }
 ],
 "metadata": {
  "interpreter": {
   "hash": "22fe2ab97ffc4a03d1884091aea1014b49711a1b8ca181251fd30f642e564bec"
  },
  "kernelspec": {
   "display_name": "Python 3.8.12 ('lfd-env')",
   "language": "python",
   "name": "python3"
  },
  "language_info": {
   "codemirror_mode": {
    "name": "ipython",
    "version": 3
   },
   "file_extension": ".py",
   "mimetype": "text/x-python",
   "name": "python",
   "nbconvert_exporter": "python",
   "pygments_lexer": "ipython3",
   "version": "3.8.12"
  },
  "orig_nbformat": 4
 },
 "nbformat": 4,
 "nbformat_minor": 2
}
