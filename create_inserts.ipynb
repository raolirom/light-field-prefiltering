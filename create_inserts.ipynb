{
 "cells": [
  {
   "cell_type": "code",
   "execution_count": 1,
   "metadata": {},
   "outputs": [],
   "source": [
    "from PIL import Image, ImageDraw\n",
    "from IPython.display import display\n",
    "from tqdm.notebook import tqdm"
   ]
  },
  {
   "cell_type": "code",
   "execution_count": 2,
   "metadata": {},
   "outputs": [],
   "source": [
    "insert_size = 512\n",
    "border_size = 2\n",
    "\n",
    "scenes = ['car', 'chess', 'dragon', 'sponza']\n",
    "n_scenes = len(scenes)\n",
    "\n",
    "depths = ['near', 'mid', 'far']\n",
    "colors = ['#2ca02c', '#1f77b4', '#ff7f0e']\n",
    "n_depths = len(depths)\n",
    "\n",
    "iters = [1, 5, 10, 15, 20, 30, 40, 50]\n",
    "n_iters = len(iters)\n",
    "\n",
    "methods = ['retinal_near-iter_50', 'retinal_mid-iter_50', 'retinal_far-iter_50', 'retinal_range-iter_50', 'naive', 'interpolation']\n",
    "n_methods = len(methods)\n",
    "\n",
    "resolutions = ['12x140', '24x280', '36x420', '48x560']\n",
    "n_resolutions = len(resolutions)\n",
    "\n",
    "coords = [[(1420, 2460), (2268,  840), (3080, 1560)], # car\n",
    "          [(1892, 1820), (2640, 1260), (1200, 1480)], # chess\n",
    "          [(1400, 1440), (2140, 2160), (2160, 1540)], # dragon\n",
    "          [( 300, 2700), (1760, 2392), (1960, 1800)]] # sponza"
   ]
  },
  {
   "cell_type": "code",
   "execution_count": 3,
   "metadata": {},
   "outputs": [
    {
     "data": {
      "application/vnd.jupyter.widget-view+json": {
       "model_id": "0edc8cf20b3e4d2aac422c95d71778e0",
       "version_major": 2,
       "version_minor": 0
      },
      "text/plain": [
       "  0%|          | 0/204 [00:00<?, ?it/s]"
      ]
     },
     "metadata": {},
     "output_type": "display_data"
    }
   ],
   "source": [
    "with tqdm(total=n_scenes * n_depths * (1 + n_resolutions*4)) as pbar:\n",
    "    for scene_index, scene in enumerate(scenes):\n",
    "        for depth_index, depth in enumerate(depths):\n",
    "            # Reference with inserts.\n",
    "            with Image.open('figures/{}/{}-focus_{}-reference.png'.format(scene, scene, depth)) as img:\n",
    "                for insert_index in range(n_depths):\n",
    "                    x, y = coords[scene_index][insert_index]\n",
    "                    ImageDraw.Draw(img).rectangle((x, y, x + insert_size - 1, y + insert_size - 1), outline=colors[insert_index], width=border_size)\n",
    "                img.save('figures/retina/{}-focus_{}-reference.png'.format(scene, depth))\n",
    "                pbar.update()\n",
    "\n",
    "            for resolution_index, resolution in enumerate(resolutions):\n",
    "                # Retinal targeted with inserts.\n",
    "                with Image.open('figures/{}/{}-focus_{}-{}-retinal_{}-iter_50.png'.format(scene, scene, depth, resolution, depth)) as img:\n",
    "                    for insert_index in range(n_depths):\n",
    "                        x, y = coords[scene_index][insert_index]\n",
    "                        ImageDraw.Draw(img).rectangle((x, y, x + insert_size - 1, y + insert_size - 1), outline=colors[insert_index], width=border_size)\n",
    "                    img.save('figures/retina/{}-focus_{}-{}-retinal_{}.png'.format(scene, depth, resolution, depth))\n",
    "                    pbar.update()\n",
    "\n",
    "                # Retinal range with inserts.\n",
    "                with Image.open('figures/{}/{}-focus_{}-{}-retinal_{}-iter_50.png'.format(scene, scene, depth, resolution, 'range')) as img:\n",
    "                    for insert_index in range(n_depths):\n",
    "                        x, y = coords[scene_index][insert_index]\n",
    "                        ImageDraw.Draw(img).rectangle((x, y, x + insert_size - 1, y + insert_size - 1), outline=colors[insert_index], width=border_size)\n",
    "                    img.save('figures/retina/{}-focus_{}-{}-retinal_{}.png'.format(scene, depth, resolution, 'range'))\n",
    "                    pbar.update()\n",
    "\n",
    "                # Naive with inserts.\n",
    "                with Image.open('figures/{}/{}-focus_{}-{}-naive.png'.format(scene, scene, depth, resolution)) as img:\n",
    "                    for insert_index in range(n_depths):\n",
    "                        x, y = coords[scene_index][insert_index]\n",
    "                        ImageDraw.Draw(img).rectangle((x, y, x + insert_size - 1, y + insert_size - 1), outline=colors[insert_index], width=border_size)\n",
    "                    img.save('figures/retina/{}-focus_{}-{}-naive.png'.format(scene, depth, resolution))\n",
    "                    pbar.update()\n",
    "\n",
    "                # Interpolation with inserts.\n",
    "                with Image.open('figures/{}/{}-focus_{}-{}-interpolation.png'.format(scene, scene, depth, resolution)) as img:\n",
    "                    for insert_index in range(n_depths):\n",
    "                        x, y = coords[scene_index][insert_index]\n",
    "                        ImageDraw.Draw(img).rectangle((x, y, x + insert_size - 1, y + insert_size - 1), outline=colors[insert_index], width=border_size)\n",
    "                    img.save('figures/retina/{}-focus_{}-{}-interpolation.png'.format(scene, depth, resolution))\n",
    "                    pbar.update()"
   ]
  },
  {
   "cell_type": "code",
   "execution_count": 4,
   "metadata": {},
   "outputs": [
    {
     "data": {
      "application/vnd.jupyter.widget-view+json": {
       "model_id": "d781c342b41744abac0a2988664cd741",
       "version_major": 2,
       "version_minor": 0
      },
      "text/plain": [
       "  0%|          | 0/12 [00:00<?, ?it/s]"
      ]
     },
     "metadata": {},
     "output_type": "display_data"
    }
   ],
   "source": [
    "references_inserts = []\n",
    "\n",
    "with tqdm(total=n_scenes * n_depths) as pbar:\n",
    "    for scene_index, scene in enumerate(scenes):\n",
    "        references_inserts.append([])\n",
    "        for depth_index, depth in enumerate(depths):\n",
    "\n",
    "            x, y = coords[scene_index][depth_index]\n",
    "\n",
    "            with Image.open('figures/{}/{}-focus_{}-reference.png'.format(scene, scene, depth)) as img:\n",
    "                insert = img.crop((x, y, x + insert_size, y + insert_size))\n",
    "                ImageDraw.Draw(insert).rectangle((0, 0, insert_size - 1, insert_size - 1), outline=colors[depth_index], width=border_size)\n",
    "                references_inserts[scene_index].append(insert)\n",
    "            \n",
    "            pbar.update()"
   ]
  },
  {
   "cell_type": "code",
   "execution_count": 5,
   "metadata": {},
   "outputs": [
    {
     "data": {
      "application/vnd.jupyter.widget-view+json": {
       "model_id": "8de69e31c2554eeeb4353e99c7580529",
       "version_major": 2,
       "version_minor": 0
      },
      "text/plain": [
       "  0%|          | 0/288 [00:00<?, ?it/s]"
      ]
     },
     "metadata": {},
     "output_type": "display_data"
    }
   ],
   "source": [
    "methods_inserts = []\n",
    "\n",
    "with tqdm(total=n_scenes * n_depths * n_resolutions * n_methods) as pbar:\n",
    "    for scene_index, scene in enumerate(scenes):\n",
    "        methods_inserts.append([])\n",
    "        for depth_index, depth in enumerate(depths):\n",
    "            methods_inserts[scene_index].append([])\n",
    "            for resolution_index, resolution in enumerate(resolutions):\n",
    "                methods_inserts[scene_index][depth_index].append([])\n",
    "                for method_index, method in enumerate(methods):\n",
    "\n",
    "                    x, y = coords[scene_index][depth_index]\n",
    "\n",
    "                    with Image.open('figures/{}/{}-focus_{}-{}-{}.png'.format(scene, scene, depth, resolution, method)) as img:\n",
    "                        insert = img.crop((x, y, x + insert_size, y + insert_size))\n",
    "                        ImageDraw.Draw(insert).rectangle((0, 0, insert_size - 1, insert_size - 1), outline=colors[depth_index], width=border_size)\n",
    "                        methods_inserts[scene_index][depth_index][resolution_index].append(insert)\n",
    "                    \n",
    "                    pbar.update()"
   ]
  },
  {
   "cell_type": "code",
   "execution_count": 6,
   "metadata": {},
   "outputs": [
    {
     "data": {
      "application/vnd.jupyter.widget-view+json": {
       "model_id": "b41e6ea86b9d4dcc976acd6c4be8055f",
       "version_major": 2,
       "version_minor": 0
      },
      "text/plain": [
       "  0%|          | 0/384 [00:00<?, ?it/s]"
      ]
     },
     "metadata": {},
     "output_type": "display_data"
    }
   ],
   "source": [
    "iterations_inserts = []\n",
    "\n",
    "with tqdm(total=n_scenes * n_depths * n_resolutions * n_iters) as pbar:\n",
    "    for scene_index, scene in enumerate(scenes):\n",
    "        iterations_inserts.append([])\n",
    "        for depth_index, depth in enumerate(depths):\n",
    "            iterations_inserts[scene_index].append([])\n",
    "            for resolution_index, resolution in enumerate(resolutions):\n",
    "                iterations_inserts[scene_index][depth_index].append([])\n",
    "                for iter_index, n_iter in enumerate(iters):\n",
    "                    iterations_inserts[scene_index][depth_index][resolution_index].append([])\n",
    "\n",
    "                    x, y = coords[scene_index][depth_index]\n",
    "\n",
    "                    with Image.open('figures/{}/{}-focus_{}-{}-retinal_{}-iter_{}.png'.format(scene, scene, depth, resolution, depth, n_iter)) as img:\n",
    "                        insert = img.crop((x, y, x + insert_size, y + insert_size))\n",
    "                        ImageDraw.Draw(insert).rectangle((0, 0, insert_size - 1, insert_size - 1), outline=colors[depth_index], width=border_size)\n",
    "                        iterations_inserts[scene_index][depth_index][resolution_index][iter_index].append(insert)\n",
    "\n",
    "                    with Image.open('figures/{}/{}-focus_{}-{}-retinal_{}-iter_{}.png'.format(scene, scene, depth, resolution, 'range', n_iter)) as img:\n",
    "                        insert = img.crop((x, y, x + insert_size, y + insert_size))\n",
    "                        ImageDraw.Draw(insert).rectangle((0, 0, insert_size - 1, insert_size - 1), outline=colors[depth_index], width=border_size)\n",
    "                        iterations_inserts[scene_index][depth_index][resolution_index][iter_index].append(insert)\n",
    "                    \n",
    "                    pbar.update()"
   ]
  },
  {
   "cell_type": "code",
   "execution_count": 7,
   "metadata": {},
   "outputs": [
    {
     "data": {
      "application/vnd.jupyter.widget-view+json": {
       "model_id": "cb2b0848997f444eb8f43f539b364218",
       "version_major": 2,
       "version_minor": 0
      },
      "text/plain": [
       "  0%|          | 0/12 [00:00<?, ?it/s]"
      ]
     },
     "metadata": {},
     "output_type": "display_data"
    }
   ],
   "source": [
    "# Each row varies Resolution\n",
    "# Each column varies Method\n",
    "\n",
    "img = Image.new(mode='RGB', size=(n_resolutions * (insert_size-border_size) + border_size, (1 + n_methods) * (insert_size-border_size) + border_size), color=(255, 255, 255))\n",
    "\n",
    "with tqdm(total=n_scenes * n_depths) as pbar:\n",
    "    for scene_index, scene in enumerate(scenes):\n",
    "        for depth_index, depth in enumerate(depths):\n",
    "            img.paste(references_inserts[scene_index][depth_index], ((n_resolutions - 1) * (insert_size-border_size)//2, 0))\n",
    "\n",
    "            for resolution_index, resolution in enumerate(resolutions):\n",
    "                for method_index, method in enumerate(methods):\n",
    "                    img.paste(methods_inserts[scene_index][depth_index][resolution_index][method_index], (resolution_index * (insert_size-border_size), (1 + method_index) * (insert_size-border_size)))\n",
    "            img.save('figures/inserts/{}-focus_{}-RxM.png'.format(scene, depth))\n",
    "\n",
    "            pbar.update()"
   ]
  },
  {
   "cell_type": "code",
   "execution_count": 8,
   "metadata": {},
   "outputs": [
    {
     "data": {
      "application/vnd.jupyter.widget-view+json": {
       "model_id": "7f20df74aeeb40958ec51d304e59c001",
       "version_major": 2,
       "version_minor": 0
      },
      "text/plain": [
       "  0%|          | 0/12 [00:00<?, ?it/s]"
      ]
     },
     "metadata": {},
     "output_type": "display_data"
    }
   ],
   "source": [
    "# Each row varies Resolution\n",
    "# Each column varies Iteration\n",
    "\n",
    "img = Image.new(mode='RGB', size=(n_resolutions * (insert_size-border_size) + border_size, n_iters * (insert_size-border_size) + border_size), color=(255, 255, 255))\n",
    "\n",
    "with tqdm(total=n_scenes * n_depths) as pbar:\n",
    "    for scene_index, scene in enumerate(scenes):\n",
    "        for depth_index, depth in enumerate(depths):\n",
    "\n",
    "            for resolution_index, resolution in enumerate(resolutions):\n",
    "                for iter_index, n_iter in enumerate(iters):\n",
    "                    img.paste(iterations_inserts[scene_index][depth_index][resolution_index][iter_index][0], (resolution_index * (insert_size-border_size), iter_index * (insert_size-border_size)))\n",
    "            img.save('figures/inserts/{}-focus_{}-retinal_{}-RxI.png'.format(scene, depth, depth))\n",
    "\n",
    "            for resolution_index, resolution in enumerate(resolutions):\n",
    "                for iter_index, n_iter in enumerate(iters):\n",
    "                    img.paste(iterations_inserts[scene_index][depth_index][resolution_index][iter_index][1], (resolution_index * (insert_size-border_size), iter_index * (insert_size-border_size)))\n",
    "            img.save('figures/inserts/{}-focus_{}-retinal_{}-RxI.png'.format(scene, depth, 'range'))\n",
    "\n",
    "            pbar.update()"
   ]
  }
 ],
 "metadata": {
  "kernelspec": {
   "display_name": "lfd-env",
   "language": "python",
   "name": "python3"
  },
  "language_info": {
   "codemirror_mode": {
    "name": "ipython",
    "version": 3
   },
   "file_extension": ".py",
   "mimetype": "text/x-python",
   "name": "python",
   "nbconvert_exporter": "python",
   "pygments_lexer": "ipython3",
   "version": "3.8.12"
  }
 },
 "nbformat": 4,
 "nbformat_minor": 2
}
