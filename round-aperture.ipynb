{
 "cells": [
  {
   "cell_type": "code",
   "execution_count": 2,
   "metadata": {},
   "outputs": [],
   "source": [
    "import glob\r\n",
    "from PIL import Image\r\n",
    "import numpy as np\r\n",
    "from matplotlib import cm\r\n",
    "from tqdm.notebook import tqdm, tnrange\r\n",
    "from IPython.display import display"
   ]
  },
  {
   "cell_type": "code",
   "execution_count": 3,
   "metadata": {
    "tags": []
   },
   "outputs": [],
   "source": [
    "# Parameters\n",
    "\n",
    "z_r = 17.0\n",
    "z_a = 6.5\n",
    "z_b = 15.0\n",
    "z_f = 15.0\n",
    "\n",
    "pupil_diameter = 5.0\n",
    "\n",
    "size_r = 5.5\n",
    "size_a = size_r * z_a / z_r\n",
    "size_b = size_r * z_b / z_r\n",
    "\n",
    "resolution_r = 128\n",
    "low_resolution_a = 4\n",
    "low_resolution_b = 32\n",
    "high_resolution_a = 16\n",
    "high_resolution_b = 512"
   ]
  },
  {
   "cell_type": "code",
   "execution_count": 4,
   "metadata": {},
   "outputs": [],
   "source": [
    "# Basic coordinate manipulation functions.\n",
    "\n",
    "def compute_coordinates(resolution, size):\n",
    "    \"\"\"Return an array of shape (resolution) containing the coordinates of a sampling lattice.\"\"\"\n",
    "    pitch = size / resolution\n",
    "    indices = np.arange(resolution)\n",
    "    return (indices - (resolution - 1)/2) * pitch\n",
    "\n",
    "def compute_intervals(resolution, size):\n",
    "    \"\"\"Return an array of shape (resolution, 2) containing the boundaries of each sampling region.\"\"\"\n",
    "    pitch = size / resolution\n",
    "    indices = np.arange(resolution)\n",
    "    lower_boundaries = indices * pitch - size/2\n",
    "    upper_boundaries = lower_boundaries + pitch\n",
    "    return np.stack([lower_boundaries, upper_boundaries], axis=-1)"
   ]
  },
  {
   "cell_type": "code",
   "execution_count": 5,
   "metadata": {},
   "outputs": [],
   "source": [
    "# Anti-aliased circle generation functions\n",
    "\n",
    "def semicircle(x):\n",
    "    \"\"\"Return the positive y coordinate associated to an x coordinate in a unit circle.\"\"\"\n",
    "    return np.sqrt(1.0 - np.square(x))\n",
    "\n",
    "def semicircle_integral(x):\n",
    "    \"\"\"Return the indefinite integral at x of the semicircle function.\"\"\"\n",
    "    return (np.sqrt(1.0 - np.square(x)) * x + np.arcsin(x))/2\n",
    "\n",
    "def semicircle_box_area(horizontal_intervals, vertical_intervals):\n",
    "    \"\"\"Return the area of the intersection of a box against the unit semicircle.\"\"\"\n",
    "    # Restrain the vertical intervals to the positive space\n",
    "    vertical_intervals = np.maximum(vertical_intervals, 0.0)\n",
    "\n",
    "    # Reshape to (idx_h, idx_v, Left|Right, Lower|Upper)\n",
    "    horizontal_intervals = horizontal_intervals[:, np.newaxis, :, np.newaxis]\n",
    "    vertical_intervals   =   vertical_intervals[np.newaxis, :, np.newaxis, :]\n",
    "\n",
    "    # Compute horizontal intervals defined by the intersection of each vertical coordinate with the circle\n",
    "    circle_intervals = semicircle(vertical_intervals)\n",
    "\n",
    "    # Clamp the horizontal intervals to the according column regions given by the circle horizontal intervals\n",
    "    horizontal_intervals = np.clip(horizontal_intervals, -circle_intervals, circle_intervals)\n",
    "\n",
    "    # Compute the indefinite integral at each horizontal interval boundary\n",
    "    integrals = semicircle_integral(horizontal_intervals)\n",
    "\n",
    "    #\n",
    "    return np.tensordot(integrals - horizontal_intervals * vertical_intervals, [[-1.0, 1.0], [1.0, -1.0]])\n",
    "\n",
    "def circle_box_area(horizontal_intervals, vertical_intervals):\n",
    "    \"\"\"Return the area of the intersection of a box against the unit circle.\"\"\"\n",
    "    # Split vertical intervals into upper and lower halves\n",
    "    vertical_intervals_above = np.maximum(vertical_intervals, 0.0)\n",
    "    vertical_intervals_below = np.maximum(-np.flip(vertical_intervals, axis=-1), 0.0)\n",
    "\n",
    "    # Compute semicircle-box intersection areas\n",
    "    areas_above = semicircle_box_area(horizontal_intervals, vertical_intervals_above)\n",
    "    areas_below = semicircle_box_area(horizontal_intervals, vertical_intervals_below)\n",
    "\n",
    "    # Return the sum of the upper and lower halves\n",
    "    return areas_above + areas_below"
   ]
  },
  {
   "cell_type": "code",
   "execution_count": 6,
   "metadata": {},
   "outputs": [],
   "source": [
    "# Tensor generation functions\n",
    "\n",
    "def compute_intervals_at_pupil(resolution_r, size_r, z_r,\n",
    "                               resolution_a, size_a, z_a,\n",
    "                               resolution_b, size_b, z_b,\n",
    "                                     pupil_diameter, z_f):\n",
    "    \"\"\"Return the intersections of the 1-dim intervals of each display plane projected at the pupil plane.\"\"\"\n",
    "    # Scale pupil to the unit circle\n",
    "    size_r = size_r * 2 / pupil_diameter\n",
    "    size_a = size_a * 2 / pupil_diameter\n",
    "    size_b = size_b * 2 / pupil_diameter\n",
    "\n",
    "    # Compute coordinates and intervals with shape (idx_r, idx_a, idx_b, Lower|Upper)\n",
    "    coordinates_r = compute_coordinates(resolution_r, size_r)[:, np.newaxis, np.newaxis, np.newaxis]\n",
    "    intervals_a = compute_intervals(resolution_a, size_a)[np.newaxis, :, np.newaxis, :]\n",
    "    intervals_b = compute_intervals(resolution_b, size_b)[np.newaxis, np.newaxis, :, :]\n",
    "\n",
    "    # Project intervals to the pupil plane\n",
    "    projected_a = (intervals_a - coordinates_r * z_a/z_r) / (1.0 - z_a/z_f)\n",
    "    projected_b = (intervals_b - coordinates_r * z_b/z_r) / (1.0 - z_b/z_f)\n",
    "\n",
    "    # Return the intersections of plane B intervals against plane A intervals against the unit box\n",
    "    return np.clip(np.clip(projected_a, -1.0, 1.0), projected_b[..., 0, np.newaxis], projected_b[..., 1, np.newaxis])\n",
    "\n",
    "def compute_imaging_tensor(resolution_r, size_r, z_r,\n",
    "                           resolution_a, size_a, z_a,\n",
    "                           resolution_b, size_b, z_b,\n",
    "                                 pupil_diameter, z_f):\n",
    "    \"\"\"Return a sparse tensor that maps the contribution of each 4-dim light field interval (x_a, y_a, x_b, y_b) to each 2-dim retina sample (x_r, y_r)\"\"\"\n",
    "    # Compute the 1-dim intersection intervals over the pupil plane\n",
    "    intersection_intervals = compute_intervals_at_pupil(resolution_r, size_r, z_r,\n",
    "                                                        resolution_a, size_a, z_a,\n",
    "                                                        resolution_b, size_b, z_b,\n",
    "                                                              pupil_diameter, z_f)\n",
    "    \n",
    "    # Indices of nonempty 1-dim intersection intervals\n",
    "    idx_r, idx_a, idx_b = np.nonzero(intersection_intervals[..., 1] - intersection_intervals[..., 0])\n",
    "\n",
    "    # Nonempty 1-dim intersection intervals with shape (idx, Lower|Upper)\n",
    "    nonempty_intervals = intersection_intervals[idx_r, idx_a, idx_b]\n",
    "\n",
    "    # Compute circle-box intersection areas\n",
    "    areas = circle_box_area(nonempty_intervals, nonempty_intervals)\n",
    "\n",
    "    print('areas', areas.shape)\n",
    "\n",
    "    # Index of nonzero areas\n",
    "    idx_h, idx_v = np.nonzero(areas)\n",
    "\n",
    "    print('idx_h', idx_h.shape)\n",
    "    print('idx_v', idx_v.shape)\n",
    "\n",
    "    # Sparse indices and values\n",
    "    sparse_indices = np.vstack([idx_r[idx_h], idx_r[idx_v], idx_a[idx_h], idx_a[idx_v], idx_b[idx_h], idx_b[idx_v]])\n",
    "    sparse_values = areas[idx_h, idx_v]\n",
    "\n",
    "    print('sparse_indices', sparse_indices.shape)\n",
    "    print('sparse_values', sparse_values.shape)\n",
    "\n",
    "    # Return the sparse tensor\n",
    "    tensor_shape = (resolution_r, resolution_r, resolution_a, resolution_a, resolution_b, resolution_b)\n",
    "    return sparse.COO(sparse_indices, sparse_values, shape=tensor_shape)"
   ]
  },
  {
   "cell_type": "code",
   "execution_count": 7,
   "metadata": {},
   "outputs": [],
   "source": [
    "# Light field downsampling functions\n",
    "\n",
    "def naive_downsampling(light_field, resolution_a, resolution_b):\n",
    "  indices_a = np.arange(resolution_a)\n",
    "  indices_b = np.arange(resolution_b)\n",
    "  shifted_a = indices_a - int(resolution_a/2)\n",
    "  shifted_b = indices_b - int(resolution_b/2)\n",
    "  lpf_a = np.fft.ifftshift(shifted_a)\n",
    "  lpf_b = np.fft.ifftshift(shifted_b)\n",
    "  spectrum = np.fft.fftn(light_field)\n",
    "  downsampled = np.real(np.fft.ifftn(spectrum[np.ix_(lpf_a, lpf_a, lpf_b, lpf_b)]))\n",
    "  return downsampled / np.amax(downsampled)"
   ]
  },
  {
   "cell_type": "code",
   "execution_count": 8,
   "metadata": {},
   "outputs": [],
   "source": [
    "# Image and light field visualization functions\n",
    "\n",
    "def display_image(values, color_map=None):\n",
    "  color_values = cm.get_cmap(color_map)(values/np.amax(values))\n",
    "  uint8_values = (color_values * 255).astype(np.uint8)\n",
    "  display(Image.fromarray(uint8_values).transpose(Image.ROTATE_90))\n",
    "\n",
    "def display_light_field(light_field, color_map=None):\n",
    "    tiled_light_field = light_field.swapaxes(1, 2).reshape((np.prod(light_field.shape[0::2]), -1))\n",
    "    display_image(tiled_light_field, color_map)"
   ]
  },
  {
   "cell_type": "code",
   "execution_count": 9,
   "metadata": {
    "tags": []
   },
   "outputs": [
    {
     "data": {
      "image/png": "[encoded data removed]",
      "text/plain": "<PIL.Image.Image image mode=RGBA size=1104x368 at 0x29DA4FABFD0>"
     },
     "metadata": {},
     "output_type": "display_data"
    }
   ],
   "source": [
    "# Anti-aliased circle generation test\n",
    "\n",
    "test_resolution = 23\n",
    "test_size = 3.0\n",
    "\n",
    "high_res_intervals = np.clip(compute_intervals(test_resolution*16, test_size), -1.0, 1.0)\n",
    "high_res_image = circle_box_area(high_res_intervals, high_res_intervals)\n",
    "\n",
    "low_res_intervals = np.clip(compute_intervals(test_resolution, test_size), -1.0, 1.0)\n",
    "low_res_image = np.kron(circle_box_area(low_res_intervals, low_res_intervals), np.ones((16, 16)) / 16**2)\n",
    "\n",
    "display_image(np.array([*high_res_image, *(high_res_image + low_res_image)*0.5, *low_res_image]))"
   ]
  },
  {
   "cell_type": "code",
   "execution_count": 10,
   "metadata": {
    "tags": []
   },
   "outputs": [
    {
     "name": "stderr",
     "output_type": "stream",
     "text": [
      "<ipython-input-6-bf880abd225f>:20: RuntimeWarning: divide by zero encountered in true_divide\n",
      "  projected_b = (intervals_b - coordinates_r * z_b/z_r) / (1.0 - z_b/z_f)\n",
      "<ipython-input-6-bf880abd225f>:20: RuntimeWarning: invalid value encountered in true_divide\n",
      "  projected_b = (intervals_b - coordinates_r * z_b/z_r) / (1.0 - z_b/z_f)\n",
      "<ipython-input-6-bf880abd225f>:37: RuntimeWarning: invalid value encountered in subtract\n",
      "  idx_r, idx_a, idx_b = np.nonzero(intersection_intervals[..., 1] - intersection_intervals[..., 0])\n",
      "<ipython-input-5-a1d794566152>:5: RuntimeWarning: invalid value encountered in sqrt\n",
      "  return np.sqrt(1.0 - np.square(x))\n"
     ]
    },
    {
     "ename": "MemoryError",
     "evalue": "Unable to allocate 32.0 TiB for an array with shape (1048417, 1048417, 2, 2) and data type float64",
     "output_type": "error",
     "traceback": [
      "\u001b[1;31m---------------------------------------------------------------------------\u001b[0m",
      "\u001b[1;31mMemoryError\u001b[0m                               Traceback (most recent call last)",
      "\u001b[1;32m<ipython-input-10-a7c8c724795a>\u001b[0m in \u001b[0;36m<module>\u001b[1;34m\u001b[0m\n\u001b[1;32m----> 1\u001b[1;33m high_res_tensor = compute_imaging_tensor(resolution_r, size_r, z_r,\n\u001b[0m\u001b[0;32m      2\u001b[0m                                     \u001b[0mhigh_resolution_a\u001b[0m\u001b[1;33m,\u001b[0m \u001b[0msize_a\u001b[0m\u001b[1;33m,\u001b[0m \u001b[0mz_a\u001b[0m\u001b[1;33m,\u001b[0m\u001b[1;33m\u001b[0m\u001b[1;33m\u001b[0m\u001b[0m\n\u001b[0;32m      3\u001b[0m                                     \u001b[0mhigh_resolution_b\u001b[0m\u001b[1;33m,\u001b[0m \u001b[0msize_b\u001b[0m\u001b[1;33m,\u001b[0m \u001b[0mz_b\u001b[0m\u001b[1;33m,\u001b[0m\u001b[1;33m\u001b[0m\u001b[1;33m\u001b[0m\u001b[0m\n\u001b[0;32m      4\u001b[0m                                                pupil_diameter, z_f)\n\u001b[0;32m      5\u001b[0m \u001b[1;33m\u001b[0m\u001b[0m\n",
      "\u001b[1;32m<ipython-input-6-bf880abd225f>\u001b[0m in \u001b[0;36mcompute_imaging_tensor\u001b[1;34m(resolution_r, size_r, z_r, resolution_a, size_a, z_a, resolution_b, size_b, z_b, pupil_diameter, z_f)\u001b[0m\n\u001b[0;32m     41\u001b[0m \u001b[1;33m\u001b[0m\u001b[0m\n\u001b[0;32m     42\u001b[0m     \u001b[1;31m# Compute circle-box intersection areas\u001b[0m\u001b[1;33m\u001b[0m\u001b[1;33m\u001b[0m\u001b[1;33m\u001b[0m\u001b[0m\n\u001b[1;32m---> 43\u001b[1;33m     \u001b[0mareas\u001b[0m \u001b[1;33m=\u001b[0m \u001b[0mcircle_box_area\u001b[0m\u001b[1;33m(\u001b[0m\u001b[0mnonempty_intervals\u001b[0m\u001b[1;33m,\u001b[0m \u001b[0mnonempty_intervals\u001b[0m\u001b[1;33m)\u001b[0m\u001b[1;33m\u001b[0m\u001b[1;33m\u001b[0m\u001b[0m\n\u001b[0m\u001b[0;32m     44\u001b[0m \u001b[1;33m\u001b[0m\u001b[0m\n\u001b[0;32m     45\u001b[0m     \u001b[0mprint\u001b[0m\u001b[1;33m(\u001b[0m\u001b[1;34m'areas'\u001b[0m\u001b[1;33m,\u001b[0m \u001b[0mareas\u001b[0m\u001b[1;33m.\u001b[0m\u001b[0mshape\u001b[0m\u001b[1;33m)\u001b[0m\u001b[1;33m\u001b[0m\u001b[1;33m\u001b[0m\u001b[0m\n",
      "\u001b[1;32m<ipython-input-5-a1d794566152>\u001b[0m in \u001b[0;36mcircle_box_area\u001b[1;34m(horizontal_intervals, vertical_intervals)\u001b[0m\n\u001b[0;32m     37\u001b[0m \u001b[1;33m\u001b[0m\u001b[0m\n\u001b[0;32m     38\u001b[0m     \u001b[1;31m# Compute semicircle-box intersection areas\u001b[0m\u001b[1;33m\u001b[0m\u001b[1;33m\u001b[0m\u001b[1;33m\u001b[0m\u001b[0m\n\u001b[1;32m---> 39\u001b[1;33m     \u001b[0mareas_above\u001b[0m \u001b[1;33m=\u001b[0m \u001b[0msemicircle_box_area\u001b[0m\u001b[1;33m(\u001b[0m\u001b[0mhorizontal_intervals\u001b[0m\u001b[1;33m,\u001b[0m \u001b[0mvertical_intervals_above\u001b[0m\u001b[1;33m)\u001b[0m\u001b[1;33m\u001b[0m\u001b[1;33m\u001b[0m\u001b[0m\n\u001b[0m\u001b[0;32m     40\u001b[0m     \u001b[0mareas_below\u001b[0m \u001b[1;33m=\u001b[0m \u001b[0msemicircle_box_area\u001b[0m\u001b[1;33m(\u001b[0m\u001b[0mhorizontal_intervals\u001b[0m\u001b[1;33m,\u001b[0m \u001b[0mvertical_intervals_below\u001b[0m\u001b[1;33m)\u001b[0m\u001b[1;33m\u001b[0m\u001b[1;33m\u001b[0m\u001b[0m\n\u001b[0;32m     41\u001b[0m \u001b[1;33m\u001b[0m\u001b[0m\n",
      "\u001b[1;32m<ipython-input-5-a1d794566152>\u001b[0m in \u001b[0;36msemicircle_box_area\u001b[1;34m(horizontal_intervals, vertical_intervals)\u001b[0m\n\u001b[0;32m     22\u001b[0m \u001b[1;33m\u001b[0m\u001b[0m\n\u001b[0;32m     23\u001b[0m     \u001b[1;31m# Clamp the horizontal intervals to the according column regions given by the circle horizontal intervals\u001b[0m\u001b[1;33m\u001b[0m\u001b[1;33m\u001b[0m\u001b[1;33m\u001b[0m\u001b[0m\n\u001b[1;32m---> 24\u001b[1;33m     \u001b[0mhorizontal_intervals\u001b[0m \u001b[1;33m=\u001b[0m \u001b[0mnp\u001b[0m\u001b[1;33m.\u001b[0m\u001b[0mclip\u001b[0m\u001b[1;33m(\u001b[0m\u001b[0mhorizontal_intervals\u001b[0m\u001b[1;33m,\u001b[0m \u001b[1;33m-\u001b[0m\u001b[0mcircle_intervals\u001b[0m\u001b[1;33m,\u001b[0m \u001b[0mcircle_intervals\u001b[0m\u001b[1;33m)\u001b[0m\u001b[1;33m\u001b[0m\u001b[1;33m\u001b[0m\u001b[0m\n\u001b[0m\u001b[0;32m     25\u001b[0m \u001b[1;33m\u001b[0m\u001b[0m\n\u001b[0;32m     26\u001b[0m     \u001b[1;31m# Compute the indefinite integral at each horizontal interval boundary\u001b[0m\u001b[1;33m\u001b[0m\u001b[1;33m\u001b[0m\u001b[1;33m\u001b[0m\u001b[0m\n",
      "\u001b[1;32m<__array_function__ internals>\u001b[0m in \u001b[0;36mclip\u001b[1;34m(*args, **kwargs)\u001b[0m\n",
      "\u001b[1;32m~\\miniconda3\\envs\\lfd-prefiltering\\lib\\site-packages\\numpy\\core\\fromnumeric.py\u001b[0m in \u001b[0;36mclip\u001b[1;34m(a, a_min, a_max, out, **kwargs)\u001b[0m\n\u001b[0;32m   2095\u001b[0m \u001b[1;33m\u001b[0m\u001b[0m\n\u001b[0;32m   2096\u001b[0m     \"\"\"\n\u001b[1;32m-> 2097\u001b[1;33m     \u001b[1;32mreturn\u001b[0m \u001b[0m_wrapfunc\u001b[0m\u001b[1;33m(\u001b[0m\u001b[0ma\u001b[0m\u001b[1;33m,\u001b[0m \u001b[1;34m'clip'\u001b[0m\u001b[1;33m,\u001b[0m \u001b[0ma_min\u001b[0m\u001b[1;33m,\u001b[0m \u001b[0ma_max\u001b[0m\u001b[1;33m,\u001b[0m \u001b[0mout\u001b[0m\u001b[1;33m=\u001b[0m\u001b[0mout\u001b[0m\u001b[1;33m,\u001b[0m \u001b[1;33m**\u001b[0m\u001b[0mkwargs\u001b[0m\u001b[1;33m)\u001b[0m\u001b[1;33m\u001b[0m\u001b[1;33m\u001b[0m\u001b[0m\n\u001b[0m\u001b[0;32m   2098\u001b[0m \u001b[1;33m\u001b[0m\u001b[0m\n\u001b[0;32m   2099\u001b[0m \u001b[1;33m\u001b[0m\u001b[0m\n",
      "\u001b[1;32m~\\miniconda3\\envs\\lfd-prefiltering\\lib\\site-packages\\numpy\\core\\fromnumeric.py\u001b[0m in \u001b[0;36m_wrapfunc\u001b[1;34m(obj, method, *args, **kwds)\u001b[0m\n\u001b[0;32m     56\u001b[0m \u001b[1;33m\u001b[0m\u001b[0m\n\u001b[0;32m     57\u001b[0m     \u001b[1;32mtry\u001b[0m\u001b[1;33m:\u001b[0m\u001b[1;33m\u001b[0m\u001b[1;33m\u001b[0m\u001b[0m\n\u001b[1;32m---> 58\u001b[1;33m         \u001b[1;32mreturn\u001b[0m \u001b[0mbound\u001b[0m\u001b[1;33m(\u001b[0m\u001b[1;33m*\u001b[0m\u001b[0margs\u001b[0m\u001b[1;33m,\u001b[0m \u001b[1;33m**\u001b[0m\u001b[0mkwds\u001b[0m\u001b[1;33m)\u001b[0m\u001b[1;33m\u001b[0m\u001b[1;33m\u001b[0m\u001b[0m\n\u001b[0m\u001b[0;32m     59\u001b[0m     \u001b[1;32mexcept\u001b[0m \u001b[0mTypeError\u001b[0m\u001b[1;33m:\u001b[0m\u001b[1;33m\u001b[0m\u001b[1;33m\u001b[0m\u001b[0m\n\u001b[0;32m     60\u001b[0m         \u001b[1;31m# A TypeError occurs if the object does have such a method in its\u001b[0m\u001b[1;33m\u001b[0m\u001b[1;33m\u001b[0m\u001b[1;33m\u001b[0m\u001b[0m\n",
      "\u001b[1;32m~\\miniconda3\\envs\\lfd-prefiltering\\lib\\site-packages\\numpy\\core\\_methods.py\u001b[0m in \u001b[0;36m_clip\u001b[1;34m(a, min, max, out, casting, **kwargs)\u001b[0m\n\u001b[0;32m    138\u001b[0m             um.maximum, a, min, out=out, casting=casting, **kwargs)\n\u001b[0;32m    139\u001b[0m     \u001b[1;32melse\u001b[0m\u001b[1;33m:\u001b[0m\u001b[1;33m\u001b[0m\u001b[1;33m\u001b[0m\u001b[0m\n\u001b[1;32m--> 140\u001b[1;33m         return _clip_dep_invoke_with_casting(\n\u001b[0m\u001b[0;32m    141\u001b[0m             um.clip, a, min, max, out=out, casting=casting, **kwargs)\n\u001b[0;32m    142\u001b[0m \u001b[1;33m\u001b[0m\u001b[0m\n",
      "\u001b[1;32m~\\miniconda3\\envs\\lfd-prefiltering\\lib\\site-packages\\numpy\\core\\_methods.py\u001b[0m in \u001b[0;36m_clip_dep_invoke_with_casting\u001b[1;34m(ufunc, out, casting, *args, **kwargs)\u001b[0m\n\u001b[0;32m     92\u001b[0m     \u001b[1;31m# try to deal with broken casting rules\u001b[0m\u001b[1;33m\u001b[0m\u001b[1;33m\u001b[0m\u001b[1;33m\u001b[0m\u001b[0m\n\u001b[0;32m     93\u001b[0m     \u001b[1;32mtry\u001b[0m\u001b[1;33m:\u001b[0m\u001b[1;33m\u001b[0m\u001b[1;33m\u001b[0m\u001b[0m\n\u001b[1;32m---> 94\u001b[1;33m         \u001b[1;32mreturn\u001b[0m \u001b[0mufunc\u001b[0m\u001b[1;33m(\u001b[0m\u001b[1;33m*\u001b[0m\u001b[0margs\u001b[0m\u001b[1;33m,\u001b[0m \u001b[0mout\u001b[0m\u001b[1;33m=\u001b[0m\u001b[0mout\u001b[0m\u001b[1;33m,\u001b[0m \u001b[1;33m**\u001b[0m\u001b[0mkwargs\u001b[0m\u001b[1;33m)\u001b[0m\u001b[1;33m\u001b[0m\u001b[1;33m\u001b[0m\u001b[0m\n\u001b[0m\u001b[0;32m     95\u001b[0m     \u001b[1;32mexcept\u001b[0m \u001b[0m_exceptions\u001b[0m\u001b[1;33m.\u001b[0m\u001b[0m_UFuncOutputCastingError\u001b[0m \u001b[1;32mas\u001b[0m \u001b[0me\u001b[0m\u001b[1;33m:\u001b[0m\u001b[1;33m\u001b[0m\u001b[1;33m\u001b[0m\u001b[0m\n\u001b[0;32m     96\u001b[0m         \u001b[1;31m# Numpy 1.17.0, 2019-02-24\u001b[0m\u001b[1;33m\u001b[0m\u001b[1;33m\u001b[0m\u001b[1;33m\u001b[0m\u001b[0m\n",
      "\u001b[1;31mMemoryError\u001b[0m: Unable to allocate 32.0 TiB for an array with shape (1048417, 1048417, 2, 2) and data type float64"
     ]
    }
   ],
   "source": [
    "high_res_tensor = compute_imaging_tensor(resolution_r, size_r, z_r,\n",
    "                                    high_resolution_a, size_a, z_a,\n",
    "                                    high_resolution_b, size_b, z_b,\n",
    "                                               pupil_diameter, z_f)\n",
    "\n",
    "print('High resolution tensor:', high_res_tensor)\n",
    "print('Size: {:.2f} GiB'.format(high_res_tensor.nbytes / 2**30))"
   ]
  },
  {
   "cell_type": "code",
   "execution_count": 11,
   "metadata": {
    "tags": []
   },
   "outputs": [
    {
     "name": "stderr",
     "output_type": "stream",
     "text": [
      "<ipython-input-6-bf880abd225f>:20: RuntimeWarning: divide by zero encountered in true_divide\n",
      "  projected_b = (intervals_b - coordinates_r * z_b/z_r) / (1.0 - z_b/z_f)\n",
      "<ipython-input-6-bf880abd225f>:37: RuntimeWarning: invalid value encountered in subtract\n",
      "  idx_r, idx_a, idx_b = np.nonzero(intersection_intervals[..., 1] - intersection_intervals[..., 0])\n",
      "<ipython-input-5-a1d794566152>:5: RuntimeWarning: invalid value encountered in sqrt\n",
      "  return np.sqrt(1.0 - np.square(x))\n"
     ]
    }
   ],
   "source": [
    "low_res_tensor = compute_imaging_tensor(resolution_r, size_r, z_r,\n",
    "                                    low_resolution_a, size_a, z_a,\n",
    "                                    low_resolution_b, size_b, z_b,\n",
    "                                              pupil_diameter, z_f)\n",
    "\n",
    "print('Low resolution tensor:', low_res_tensor)\n",
    "print('Size: {:.2f} GiB'.format(low_res_tensor.nbytes / 2**30))"
   ]
  },
  {
   "cell_type": "code",
   "execution_count": null,
   "metadata": {
    "tags": []
   },
   "outputs": [],
   "source": [
    "high_res_lf = np.zeros((17, 17, 1024, 1024))\n",
    "\n",
    "dataset_path = \"datasets/tarot/\"\n",
    "path_length = len(dataset_path)\n",
    "\n",
    "for image_path in tqdm(glob.glob(dataset_path + \"*.png\"), leave=False):\n",
    "    i_a = int(image_path[path_length+7:path_length+9])\n",
    "    j_a = int(image_path[path_length+4:path_length+6])\n",
    "    high_res_lf[i_a, j_a] = np.array(Image.open(image_path).convert('L').transpose(Image.ROTATE_270))\n",
    "\n",
    "display_image(high_res_lf[8, 8])"
   ]
  },
  {
   "cell_type": "code",
   "execution_count": null,
   "metadata": {},
   "outputs": [],
   "source": [
    "low_res_lf = naive_downsampling(high_res_lf, low_resolution_a, low_resolution_b)\n",
    "display_light_field(low_res_lf)"
   ]
  },
  {
   "cell_type": "code",
   "execution_count": null,
   "metadata": {
    "tags": []
   },
   "outputs": [],
   "source": [
    "high_res_image = sparse.tensordot(high_res_tensor, high_res_lf, 4)\n",
    "display_image(high_res_image)"
   ]
  },
  {
   "cell_type": "code",
   "execution_count": null,
   "metadata": {},
   "outputs": [],
   "source": [
    "low_res_image = sparse.tensordot(low_res_tensor, low_res_lf, 4)\n",
    "display_image(low_res_image)"
   ]
  },
  {
   "cell_type": "code",
   "execution_count": null,
   "metadata": {},
   "outputs": [],
   "source": []
  }
 ],
 "metadata": {
  "colab": {
   "authorship_tag": "ABX9TyM1zPoln8NH8fiJztecBvwu",
   "collapsed_sections": [],
   "name": "paper-figures.ipynb",
   "provenance": []
  },
  "interpreter": {
   "hash": "e7b5a20710a73ab3a290802bfe253d210f0ec2de831a3365ffcbe86156f7fa95"
  },
  "kernelspec": {
   "display_name": "Python 3.8.5 64-bit ('lfd-prefiltering': conda)",
   "name": "python3"
  },
  "language_info": {
   "name": "python",
   "version": ""
  }
 },
 "nbformat": 4,
 "nbformat_minor": 1
}