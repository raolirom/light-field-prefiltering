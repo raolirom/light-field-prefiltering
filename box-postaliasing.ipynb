{
 "cells": [
  {
   "cell_type": "code",
   "execution_count": 1,
   "metadata": {},
   "outputs": [],
   "source": [
    "from PIL import Image\n",
    "import numpy as np\n",
    "from matplotlib import cm\n",
    "from IPython.display import display"
   ]
  },
  {
   "cell_type": "code",
   "execution_count": 2,
   "metadata": {},
   "outputs": [],
   "source": [
    "def cosines_signal(coords, freqs, amps=1.0, phases=0.0, normalized=True):\n",
    "    \"\"\"A signal composed as a sum of cosines. Each cosine has a given frequency, amplitude and phase.\"\"\"\n",
    "    amps = amps / np.sum(amps) if normalized else amps\n",
    "    cycles = coords * np.atleast_2d(freqs).T + np.atleast_2d(phases).T\n",
    "    return np.sum(np.atleast_2d(amps).T * (np.cos(cycles * 2 * np.pi)/2 + 0.5), axis=0)\n",
    "\n",
    "def compute_coordinates(res, size):\n",
    "    \"\"\"Return an array of shape (res) containing the coordinates of a sampling lattice.\"\"\"\n",
    "    pitch = size / res\n",
    "    indices = np.arange(res)\n",
    "    return (indices - (res - 1)/2) * pitch\n",
    "\n",
    "def display_image(values, color_map=None):\n",
    "    \"\"\"Display an image using the given color map.\"\"\"\n",
    "    color_values = cm.get_cmap(color_map)(values/np.amax(values))\n",
    "    uint8_values = (color_values * 255).astype(np.uint8)\n",
    "    display(Image.fromarray(uint8_values).transpose(Image.ROTATE_90))"
   ]
  },
  {
   "cell_type": "code",
   "execution_count": 3,
   "metadata": {},
   "outputs": [],
   "source": [
    "pixel_size = 31\n",
    "low_res = 33\n",
    "high_res = low_res * pixel_size\n",
    "\n",
    "impulse = [0.0]*(pixel_size//2) + [1.0] + [0.0]*(pixel_size//2)\n",
    "impulse_train = impulse * low_res\n",
    "\n",
    "high_res_coords = compute_coordinates(high_res, low_res)\n",
    "low_res_coords  = compute_coordinates( low_res, low_res)"
   ]
  },
  {
   "cell_type": "code",
   "execution_count": 4,
   "metadata": {},
   "outputs": [
    {
     "output_type": "display_data",
     "data": {
      "text/plain": "<PIL.Image.Image image mode=RGBA size=1023x93 at 0x27B8BDBCE08>",
      "image/png": "[encoded data removed]"
     },
     "metadata": {}
    }
   ],
   "source": [
    "nyquist = cosines_signal(high_res_coords, [0.5], [1.0]) * 0.8 + 0.2\n",
    "sampled = nyquist * impulse_train\n",
    "box_reconstruction = np.convolve(sampled, np.ones(pixel_size), mode='same')\n",
    "\n",
    "img = np.stack((nyquist, sampled, box_reconstruction), axis=1)\n",
    "display_image(np.repeat(np.flip(img, axis=1), pixel_size, axis=1))"
   ]
  },
  {
   "cell_type": "code",
   "execution_count": 5,
   "metadata": {
    "tags": []
   },
   "outputs": [
    {
     "output_type": "display_data",
     "data": {
      "text/plain": "<PIL.Image.Image image mode=RGBA size=1023x155 at 0x27B8BDD1248>",
      "image/png": "[encoded data removed]"
     },
     "metadata": {}
    }
   ],
   "source": [
    "sub_nyquist = cosines_signal(high_res_coords, [0.4], [1.0]) * 0.8 + 0.2\n",
    "sampled = sub_nyquist * impulse_train\n",
    "box_reconstruction = np.convolve(sampled, np.ones(pixel_size), mode='same')\n",
    "\n",
    "perceived = cosines_signal(high_res_coords, [0.4, 0.6], [np.sinc(0.4), np.sinc(0.6)]) * 0.8 + 0.2\n",
    "sampled2 = perceived * impulse_train\n",
    "\n",
    "img = np.stack((sub_nyquist, sampled, box_reconstruction, sampled2, perceived), axis=1)\n",
    "display_image(np.repeat(np.flip(img, axis=1), pixel_size, axis=1))"
   ]
  },
  {
   "cell_type": "code",
   "execution_count": 6,
   "metadata": {
    "tags": []
   },
   "outputs": [
    {
     "output_type": "display_data",
     "data": {
      "text/plain": "<PIL.Image.Image image mode=RGBA size=1023x124 at 0x27B8C15E448>",
      "image/png": "[encoded data removed]"
     },
     "metadata": {}
    }
   ],
   "source": [
    "sub_nyquist = cosines_signal(high_res_coords, [0.4], [1.0]) * 0.8 + 0.2\n",
    "sampled = sub_nyquist * impulse_train\n",
    "ideal_filter = np.abs(np.sinc(high_res_coords))\n",
    "ideal_reconstruction = np.clip(np.convolve(sampled, np.sinc(high_res_coords), mode='same'), 0.0, 1.0)\n",
    "\n",
    "img = np.stack((sub_nyquist, sampled, ideal_filter, ideal_reconstruction), axis=1)\n",
    "display_image(np.repeat(np.flip(img, axis=1), pixel_size, axis=1))"
   ]
  },
  {
   "cell_type": "code",
   "execution_count": 7,
   "metadata": {
    "tags": []
   },
   "outputs": [
    {
     "output_type": "display_data",
     "data": {
      "text/plain": "<PIL.Image.Image image mode=RGBA size=1023x217 at 0x27B8C15E388>",
      "image/png": "[encoded data removed]"
     },
     "metadata": {}
    }
   ],
   "source": [
    "sub_nyquist = cosines_signal(high_res_coords, [0.4], [1.0]) * 0.8 + 0.2\n",
    "sampled = sub_nyquist * impulse_train\n",
    "box_reconstruction = np.convolve(sampled, np.ones(pixel_size), mode='same')\n",
    "\n",
    "blur_kernel = np.exp(-np.square(high_res_coords))\n",
    "\n",
    "blured = np.convolve(box_reconstruction, blur_kernel, mode='same') / np.sum(blur_kernel)\n",
    "\n",
    "blured_contrast = blured - np.amin(blured[4*pixel_size:-4*pixel_size])\n",
    "blured_contrast = blured_contrast / np.amax(blured_contrast) * 0.8 + 0.2\n",
    "\n",
    "img = np.stack((sub_nyquist, sampled, box_reconstruction, blur_kernel, blured, blured_contrast, sub_nyquist), axis=1)\n",
    "display_image(np.repeat(np.flip(img, axis=1), pixel_size, axis=1))"
   ]
  }
 ],
 "metadata": {
  "colab": {
   "authorship_tag": "ABX9TyM1zPoln8NH8fiJztecBvwu",
   "collapsed_sections": [],
   "name": "paper-figures.ipynb",
   "provenance": []
  },
  "kernelspec": {
   "display_name": "Python 3",
   "language": "python",
   "name": "python3"
  },
  "language_info": {
   "codemirror_mode": {
    "name": "ipython",
    "version": 3
   },
   "file_extension": ".py",
   "mimetype": "text/x-python",
   "name": "python",
   "nbconvert_exporter": "python",
   "pygments_lexer": "ipython3",
   "version": "3.7.7"
  }
 },
 "nbformat": 4,
 "nbformat_minor": 1
}