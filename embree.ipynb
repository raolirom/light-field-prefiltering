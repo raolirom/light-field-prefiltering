{
 "cells": [
  {
   "cell_type": "code",
   "execution_count": 1,
   "metadata": {},
   "outputs": [],
   "source": [
    "import numpy as np\n",
    "from scipy import misc, optimize, fft as scipy_fft\n",
    "import embree\n",
    "import trimesh\n",
    "from matplotlib import pyplot, colors, cm\n",
    "from PIL import Image\n",
    "from IPython.display import display\n",
    "\n",
    "def sampling_lattice(res, pitch=1.0):\n",
    "    \"\"\"Return an array of shape (res,) containing the coordinates of a sampling lattice with 0 as one of the samples.\"\"\"\n",
    "    return scipy_fft.fftshift(scipy_fft.fftfreq(res).astype(np.float32) * (res * pitch))\n",
    "\n",
    "def display_image(values, color_map=None, absolute=True, normalize=True, flip=False):\n",
    "    \"\"\"Display an array as an image using a color map. The image can be normalized, shifted and/or flipped.\"\"\"\n",
    "    values = np.abs(values) if absolute else values\n",
    "    values = values * np.nan_to_num(1.0 / np.amax(values)) if normalize else values\n",
    "    values = np.flip(values) if flip else values\n",
    "    color_values = cm.get_cmap(color_map)(values, bytes=True)\n",
    "    display(Image.fromarray(color_values).transpose(Image.ROTATE_90))\n",
    "\n",
    "z_r = -17.0\n",
    "z_a = 10.0\n",
    "z_b = 30.0\n",
    "\n",
    "size_r = 5.5\n",
    "size_p = 5.0\n",
    "size_a = size_r * z_a / abs(z_r) + size_p\n",
    "size_b = size_r * z_b / abs(z_r) + size_p\n",
    "\n",
    "n_r = 512\n",
    "n_a = 45\n",
    "n_b = 45\n",
    "\n",
    "w_r = size_r / n_r\n",
    "w_p = size_p\n",
    "w_a = size_a / n_a\n",
    "w_b = size_b / n_b\n",
    "\n",
    "z_f = 100.0"
   ]
  },
  {
   "cell_type": "code",
   "execution_count": 2,
   "metadata": {},
   "outputs": [],
   "source": [
    "class Scene3D:\n",
    "    def __init__(self, filename):\n",
    "        self.trimesh = trimesh.load_mesh(filename)\n",
    "        if isinstance(self.trimesh, trimesh.Scene):\n",
    "            self.meshes = list(self.trimesh.geometry.values())\n",
    "        if isinstance(self.trimesh, trimesh.Trimesh):\n",
    "            self.meshes = [self.trimesh]\n",
    "\n",
    "        self.device = embree.Device()\n",
    "        self.scene = self.device.make_scene()\n",
    "        for mesh in self.meshes:\n",
    "            geometry = self.device.make_geometry(embree.GeometryType.Triangle)\n",
    "            vertex_buffer = geometry.set_new_buffer(embree.BufferType.Vertex, 0, embree.Format.Float3, 3 * np.dtype('float32').itemsize, mesh.vertices.shape[0])\n",
    "            index_buffer = geometry.set_new_buffer(embree.BufferType.Index, 0, embree.Format.Uint3, 3 * np.dtype('uint32').itemsize, mesh.faces.shape[0])\n",
    "            vertex_buffer[:] = mesh.vertices\n",
    "            index_buffer[:] = mesh.faces\n",
    "            geometry.commit()\n",
    "            self.scene.attach_geometry(geometry)\n",
    "            geometry.release()\n",
    "        self.scene.commit()\n",
    "\n",
    "    def rayCast(self, ray_origins, ray_directions):\n",
    "        rayhit = embree.RayHit1M(ray_origins.shape[0])\n",
    "        rayhit.org[:] = ray_origins\n",
    "        rayhit.dir[:] = ray_directions\n",
    "        rayhit.tnear[:] = 0\n",
    "        rayhit.tfar[:] = np.inf\n",
    "        rayhit.flags[:] = 0\n",
    "        rayhit.prim_id[:] = embree.INVALID_GEOMETRY_ID\n",
    "        rayhit.geom_id[:] = embree.INVALID_GEOMETRY_ID\n",
    "\n",
    "        context = embree.IntersectContext()\n",
    "        self.scene.intersect1M(context, rayhit)\n",
    "\n",
    "        ray_colors = np.zeros((ray_origins.shape[0], 4), dtype=np.uint8)\n",
    "        for mesh_id in range(len(self.meshes)):\n",
    "            mask = rayhit.geom_id == mesh_id\n",
    "            hit_uv = rayhit.uv[mask, np.newaxis, :]\n",
    "            texture_uv = self.meshes[mesh_id].visual.uv[self.meshes[mesh_id].faces[rayhit.prim_id[mask], :], :]\n",
    "            interpolated_uv = (1.0 - hit_uv[..., 0] - hit_uv[..., 1]) * texture_uv[:, 0, :] + hit_uv[..., 0] * texture_uv[:, 1, :] + hit_uv[..., 1] * texture_uv[:, 2, :]\n",
    "            ray_colors[mask] = trimesh.visual.color.uv_to_color(interpolated_uv, self.meshes[mesh_id].visual.material.image)\n",
    "        return ray_colors\n",
    "    \n",
    "    def release(self):\n",
    "        self.scene.release()\n",
    "        self.device.release()"
   ]
  },
  {
   "cell_type": "code",
   "execution_count": 3,
   "metadata": {},
   "outputs": [
    {
     "data": {
      "image/png": "[encoded data removed]",
      "text/plain": [
       "<PIL.Image.Image image mode=RGBA size=512x512 at 0x214228731C0>"
      ]
     },
     "metadata": {},
     "output_type": "display_data"
    }
   ],
   "source": [
    "scene = Scene3D('../models/teapot/teapot.obj')\n",
    "\n",
    "x_r = sampling_lattice(n_r, w_r)\n",
    "retina_samples = np.stack(np.broadcast_arrays(x_r[:, np.newaxis], x_r[np.newaxis, :], z_r), axis=-1).reshape(-1, 3)\n",
    "\n",
    "retina_image = scene.rayCast(retina_samples + [0.0, 0.0, -600.0], -retina_samples)\n",
    "retina_image = np.flip(retina_image.reshape(512, 512, 4), (0, 1))\n",
    "\n",
    "display(Image.fromarray(retina_image).transpose(Image.ROTATE_90))\n",
    "\n",
    "scene.release()"
   ]
  }
 ],
 "metadata": {
  "interpreter": {
   "hash": "22fe2ab97ffc4a03d1884091aea1014b49711a1b8ca181251fd30f642e564bec"
  },
  "kernelspec": {
   "display_name": "Python 3.8.12 ('lfd-env')",
   "language": "python",
   "name": "python3"
  },
  "language_info": {
   "codemirror_mode": {
    "name": "ipython",
    "version": 3
   },
   "file_extension": ".py",
   "mimetype": "text/x-python",
   "name": "python",
   "nbconvert_exporter": "python",
   "pygments_lexer": "ipython3",
   "version": "3.8.12"
  },
  "orig_nbformat": 4
 },
 "nbformat": 4,
 "nbformat_minor": 2
}
