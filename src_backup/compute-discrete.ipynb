{
 "cells": [
  {
   "cell_type": "code",
   "execution_count": 1,
   "metadata": {},
   "outputs": [],
   "source": [
    "import os\n",
    "os.environ['CUPY_ACCELERATORS'] = 'cutensor'\n",
    "import numpy as np\n",
    "import cupy as cp\n",
    "from scipy import fft\n",
    "import zarr\n",
    "from matplotlib import pyplot, colors, cm\n",
    "from PIL import Image\n",
    "from IPython.display import display\n",
    "from tqdm.notebook import tqdm, trange\n",
    "\n",
    "mempool = cp.get_default_memory_pool()\n",
    "pinned_mempool = cp.get_default_pinned_memory_pool()\n",
    "\n",
    "def bytesize_string(nbytes):\n",
    "    unit =          ['B',  'KiB' ,  'MiB' ,  'GiB' ,  'TiB' ,  'PiB' ,  'EiB' ,  'ZiB' ,  'YiB' ]\n",
    "    size = np.array([ 1 , 1/2**10, 1/2**20, 1/2**30, 1/2**40, 1/2**50, 1/2**60, 1/2**70, 1/2**80]) * nbytes\n",
    "    order_of_magnitude = np.argmax(size < 1.0) - 1\n",
    "    return '{} {}'.format(size[order_of_magnitude], unit[order_of_magnitude])\n",
    "\n",
    "def array_stats(a):\n",
    "    print('{} × {} = {} | min: {}, max: {}, avg: {}'.format(a.shape, a.dtype, bytesize_string(a.nbytes), np.amin(a), np.amax(a), np.average(a)))\n",
    "\n",
    "def display_image(values, color_map=None):\n",
    "    values = values if color_map is None else cm.get_cmap(color_map)(values)\n",
    "    display(Image.fromarray((np.flip(np.swapaxes(values, 0, 1), axis=0) * 255.0).astype(np.uint8)))\n",
    "    \n",
    "def save_image(name, values, color_map=None):\n",
    "    values = values if color_map is None else cm.get_cmap(color_map)(values)\n",
    "    Image.fromarray((np.flip(np.swapaxes(values, 0, 1), axis=0) * 255.0).astype(np.uint8)).save('figures/{}.png'.format(name))"
   ]
  },
  {
   "cell_type": "code",
   "execution_count": 2,
   "metadata": {},
   "outputs": [],
   "source": [
    "# Focus range\n",
    "n_f = 100\n",
    "zeta_F = np.linspace(0.0, 5.0, num=n_f) / 1000"
   ]
  },
  {
   "cell_type": "code",
   "execution_count": 3,
   "metadata": {},
   "outputs": [],
   "source": [
    "n_r = 1024\n",
    "\n",
    "n_u = 20\n",
    "n_v = 1080\n",
    "chunk_v = 40\n",
    "n_chunk = n_v//chunk_v\n",
    "\n",
    "n_res = 4\n",
    "\n",
    "n_a = np.arange(1, n_res+1, dtype=np.uint32) * 12\n",
    "n_b = np.arange(1, n_res+1, dtype=np.uint32) * 140"
   ]
  },
  {
   "cell_type": "code",
   "execution_count": 4,
   "metadata": {},
   "outputs": [],
   "source": [
    "projection = []\n",
    "\n",
    "for index_res in range(n_res):\n",
    "    projection.append(zarr.open('data/matrices/projection-{}x{}.zarr'.format(n_a[index_res], n_b[index_res]), mode='r'))\n",
    "\n",
    "n_ab = [l.shape[1] for l in projection]"
   ]
  },
  {
   "cell_type": "code",
   "execution_count": 5,
   "metadata": {},
   "outputs": [
    {
     "name": "stdout",
     "output_type": "stream",
     "text": [
      "\n",
      "Light field group size: 2\n",
      "Number of light field groups: 26\n"
     ]
    }
   ],
   "source": [
    "# Number of light field groups.\n",
    "chunk_group = 2\n",
    "n_group = n_chunk - (chunk_group - 1)\n",
    "\n",
    "print('\\nLight field group size:', chunk_group)\n",
    "print('Number of light field groups:', n_group)"
   ]
  },
  {
   "cell_type": "code",
   "execution_count": 6,
   "metadata": {},
   "outputs": [
    {
     "data": {
      "application/vnd.jupyter.widget-view+json": {
       "model_id": "2411bbce422440118387110140dedf5e",
       "version_major": 2,
       "version_minor": 0
      },
      "text/plain": [
       "  0%|          | 0/826 [00:00<?, ?it/s]"
      ]
     },
     "metadata": {},
     "output_type": "display_data"
    },
    {
     "name": "stdout",
     "output_type": "stream",
     "text": [
      "sponza 69\n"
     ]
    },
    {
     "data": {
      "application/vnd.jupyter.widget-view+json": {
       "model_id": "36c56c7e1a094cd1ba11b9dd511f8c39",
       "version_major": 2,
       "version_minor": 0
      },
      "text/plain": [
       "  0%|          | 0/826 [00:00<?, ?it/s]"
      ]
     },
     "metadata": {},
     "output_type": "display_data"
    },
    {
     "name": "stdout",
     "output_type": "stream",
     "text": [
      "sponza 70\n"
     ]
    },
    {
     "data": {
      "application/vnd.jupyter.widget-view+json": {
       "model_id": "5e63e66e57ea49c7a7ba65646d3d4cad",
       "version_major": 2,
       "version_minor": 0
      },
      "text/plain": [
       "  0%|          | 0/826 [00:00<?, ?it/s]"
      ]
     },
     "metadata": {},
     "output_type": "display_data"
    },
    {
     "name": "stdout",
     "output_type": "stream",
     "text": [
      "sponza 71\n"
     ]
    },
    {
     "data": {
      "application/vnd.jupyter.widget-view+json": {
       "model_id": "b7af7f8d39bb4acd8e62fcc9f6e8d211",
       "version_major": 2,
       "version_minor": 0
      },
      "text/plain": [
       "  0%|          | 0/826 [00:00<?, ?it/s]"
      ]
     },
     "metadata": {},
     "output_type": "display_data"
    },
    {
     "name": "stdout",
     "output_type": "stream",
     "text": [
      "sponza 72\n"
     ]
    },
    {
     "data": {
      "application/vnd.jupyter.widget-view+json": {
       "model_id": "82a25dad0c734f0dbb252c29e914b47a",
       "version_major": 2,
       "version_minor": 0
      },
      "text/plain": [
       "  0%|          | 0/826 [00:00<?, ?it/s]"
      ]
     },
     "metadata": {},
     "output_type": "display_data"
    },
    {
     "name": "stdout",
     "output_type": "stream",
     "text": [
      "sponza 73\n"
     ]
    },
    {
     "data": {
      "application/vnd.jupyter.widget-view+json": {
       "model_id": "1135087c954a472f957e1e011cb5b322",
       "version_major": 2,
       "version_minor": 0
      },
      "text/plain": [
       "  0%|          | 0/826 [00:00<?, ?it/s]"
      ]
     },
     "metadata": {},
     "output_type": "display_data"
    },
    {
     "name": "stdout",
     "output_type": "stream",
     "text": [
      "sponza 74\n"
     ]
    },
    {
     "data": {
      "application/vnd.jupyter.widget-view+json": {
       "model_id": "a182a2c08e8a4ca09781963c6a0d458c",
       "version_major": 2,
       "version_minor": 0
      },
      "text/plain": [
       "  0%|          | 0/826 [00:00<?, ?it/s]"
      ]
     },
     "metadata": {},
     "output_type": "display_data"
    },
    {
     "name": "stdout",
     "output_type": "stream",
     "text": [
      "sponza 75\n"
     ]
    },
    {
     "data": {
      "application/vnd.jupyter.widget-view+json": {
       "model_id": "c70bd3552ff64758b71cd600b4b7cb73",
       "version_major": 2,
       "version_minor": 0
      },
      "text/plain": [
       "  0%|          | 0/826 [00:00<?, ?it/s]"
      ]
     },
     "metadata": {},
     "output_type": "display_data"
    },
    {
     "name": "stdout",
     "output_type": "stream",
     "text": [
      "sponza 76\n"
     ]
    },
    {
     "data": {
      "application/vnd.jupyter.widget-view+json": {
       "model_id": "1b897eb3ec0044b6b33d14612ebf7ac4",
       "version_major": 2,
       "version_minor": 0
      },
      "text/plain": [
       "  0%|          | 0/826 [00:00<?, ?it/s]"
      ]
     },
     "metadata": {},
     "output_type": "display_data"
    },
    {
     "name": "stdout",
     "output_type": "stream",
     "text": [
      "sponza 77\n"
     ]
    },
    {
     "data": {
      "application/vnd.jupyter.widget-view+json": {
       "model_id": "204693d029c94472875d2242b6a56c4c",
       "version_major": 2,
       "version_minor": 0
      },
      "text/plain": [
       "  0%|          | 0/826 [00:00<?, ?it/s]"
      ]
     },
     "metadata": {},
     "output_type": "display_data"
    },
    {
     "name": "stdout",
     "output_type": "stream",
     "text": [
      "sponza 78\n"
     ]
    },
    {
     "data": {
      "application/vnd.jupyter.widget-view+json": {
       "model_id": "b0a138a1b55249a2aaad8b154a7d31a9",
       "version_major": 2,
       "version_minor": 0
      },
      "text/plain": [
       "  0%|          | 0/826 [00:00<?, ?it/s]"
      ]
     },
     "metadata": {},
     "output_type": "display_data"
    },
    {
     "name": "stdout",
     "output_type": "stream",
     "text": [
      "sponza 79\n"
     ]
    },
    {
     "data": {
      "application/vnd.jupyter.widget-view+json": {
       "model_id": "61df052b311d47c185b008f4399e1239",
       "version_major": 2,
       "version_minor": 0
      },
      "text/plain": [
       "  0%|          | 0/826 [00:00<?, ?it/s]"
      ]
     },
     "metadata": {},
     "output_type": "display_data"
    },
    {
     "name": "stdout",
     "output_type": "stream",
     "text": [
      "sponza 80\n"
     ]
    },
    {
     "data": {
      "application/vnd.jupyter.widget-view+json": {
       "model_id": "149678e690634c6890373b03fb0b38bc",
       "version_major": 2,
       "version_minor": 0
      },
      "text/plain": [
       "  0%|          | 0/826 [00:00<?, ?it/s]"
      ]
     },
     "metadata": {},
     "output_type": "display_data"
    },
    {
     "name": "stdout",
     "output_type": "stream",
     "text": [
      "sponza 81\n"
     ]
    },
    {
     "data": {
      "application/vnd.jupyter.widget-view+json": {
       "model_id": "2425f09d7cbb4a128faeefb9db105ebc",
       "version_major": 2,
       "version_minor": 0
      },
      "text/plain": [
       "  0%|          | 0/826 [00:00<?, ?it/s]"
      ]
     },
     "metadata": {},
     "output_type": "display_data"
    },
    {
     "name": "stdout",
     "output_type": "stream",
     "text": [
      "sponza 82\n"
     ]
    },
    {
     "data": {
      "application/vnd.jupyter.widget-view+json": {
       "model_id": "2536a1b5b07c45bc81fc31b92d170617",
       "version_major": 2,
       "version_minor": 0
      },
      "text/plain": [
       "  0%|          | 0/826 [00:00<?, ?it/s]"
      ]
     },
     "metadata": {},
     "output_type": "display_data"
    },
    {
     "name": "stdout",
     "output_type": "stream",
     "text": [
      "sponza 83\n"
     ]
    },
    {
     "data": {
      "application/vnd.jupyter.widget-view+json": {
       "model_id": "10e57a904bfb446893aae1695f90fe3a",
       "version_major": 2,
       "version_minor": 0
      },
      "text/plain": [
       "  0%|          | 0/826 [00:00<?, ?it/s]"
      ]
     },
     "metadata": {},
     "output_type": "display_data"
    },
    {
     "name": "stdout",
     "output_type": "stream",
     "text": [
      "sponza 84\n"
     ]
    },
    {
     "data": {
      "application/vnd.jupyter.widget-view+json": {
       "model_id": "eb3b0e33019340db96a13561b480ead1",
       "version_major": 2,
       "version_minor": 0
      },
      "text/plain": [
       "  0%|          | 0/826 [00:00<?, ?it/s]"
      ]
     },
     "metadata": {},
     "output_type": "display_data"
    },
    {
     "name": "stdout",
     "output_type": "stream",
     "text": [
      "sponza 85\n"
     ]
    },
    {
     "data": {
      "application/vnd.jupyter.widget-view+json": {
       "model_id": "44234a3fac054e54be8fc6ac8661dcd4",
       "version_major": 2,
       "version_minor": 0
      },
      "text/plain": [
       "  0%|          | 0/826 [00:00<?, ?it/s]"
      ]
     },
     "metadata": {},
     "output_type": "display_data"
    },
    {
     "name": "stdout",
     "output_type": "stream",
     "text": [
      "sponza 86\n"
     ]
    },
    {
     "data": {
      "application/vnd.jupyter.widget-view+json": {
       "model_id": "95571adb2bd147fabf0d552fe56d9fa4",
       "version_major": 2,
       "version_minor": 0
      },
      "text/plain": [
       "  0%|          | 0/826 [00:00<?, ?it/s]"
      ]
     },
     "metadata": {},
     "output_type": "display_data"
    },
    {
     "name": "stdout",
     "output_type": "stream",
     "text": [
      "sponza 87\n"
     ]
    },
    {
     "data": {
      "application/vnd.jupyter.widget-view+json": {
       "model_id": "6033b9a702a44642a1f04d40b58e8762",
       "version_major": 2,
       "version_minor": 0
      },
      "text/plain": [
       "  0%|          | 0/826 [00:00<?, ?it/s]"
      ]
     },
     "metadata": {},
     "output_type": "display_data"
    },
    {
     "name": "stdout",
     "output_type": "stream",
     "text": [
      "sponza 88\n"
     ]
    },
    {
     "data": {
      "application/vnd.jupyter.widget-view+json": {
       "model_id": "30f326249c45477691f52e773477be73",
       "version_major": 2,
       "version_minor": 0
      },
      "text/plain": [
       "  0%|          | 0/826 [00:00<?, ?it/s]"
      ]
     },
     "metadata": {},
     "output_type": "display_data"
    },
    {
     "name": "stdout",
     "output_type": "stream",
     "text": [
      "sponza 89\n"
     ]
    },
    {
     "data": {
      "application/vnd.jupyter.widget-view+json": {
       "model_id": "a79fdd08daad4e15a5c82e1d70edbb38",
       "version_major": 2,
       "version_minor": 0
      },
      "text/plain": [
       "  0%|          | 0/826 [00:00<?, ?it/s]"
      ]
     },
     "metadata": {},
     "output_type": "display_data"
    },
    {
     "name": "stdout",
     "output_type": "stream",
     "text": [
      "sponza 90\n"
     ]
    },
    {
     "data": {
      "application/vnd.jupyter.widget-view+json": {
       "model_id": "2f64132f44d546efb0913bd8a2fab513",
       "version_major": 2,
       "version_minor": 0
      },
      "text/plain": [
       "  0%|          | 0/826 [00:00<?, ?it/s]"
      ]
     },
     "metadata": {},
     "output_type": "display_data"
    },
    {
     "name": "stdout",
     "output_type": "stream",
     "text": [
      "sponza 91\n"
     ]
    },
    {
     "data": {
      "application/vnd.jupyter.widget-view+json": {
       "model_id": "8abf593e846a4849a8ea567d32b9134d",
       "version_major": 2,
       "version_minor": 0
      },
      "text/plain": [
       "  0%|          | 0/826 [00:00<?, ?it/s]"
      ]
     },
     "metadata": {},
     "output_type": "display_data"
    },
    {
     "name": "stdout",
     "output_type": "stream",
     "text": [
      "sponza 92\n"
     ]
    },
    {
     "data": {
      "application/vnd.jupyter.widget-view+json": {
       "model_id": "227cebec02294358a69edbc5febbd058",
       "version_major": 2,
       "version_minor": 0
      },
      "text/plain": [
       "  0%|          | 0/826 [00:00<?, ?it/s]"
      ]
     },
     "metadata": {},
     "output_type": "display_data"
    },
    {
     "name": "stdout",
     "output_type": "stream",
     "text": [
      "sponza 93\n"
     ]
    },
    {
     "data": {
      "application/vnd.jupyter.widget-view+json": {
       "model_id": "664dc9fb3fe340d8928fb690a188e589",
       "version_major": 2,
       "version_minor": 0
      },
      "text/plain": [
       "  0%|          | 0/826 [00:00<?, ?it/s]"
      ]
     },
     "metadata": {},
     "output_type": "display_data"
    },
    {
     "name": "stdout",
     "output_type": "stream",
     "text": [
      "sponza 94\n"
     ]
    },
    {
     "data": {
      "application/vnd.jupyter.widget-view+json": {
       "model_id": "c377e77805924fa1b17fde28dd38ff56",
       "version_major": 2,
       "version_minor": 0
      },
      "text/plain": [
       "  0%|          | 0/826 [00:00<?, ?it/s]"
      ]
     },
     "metadata": {},
     "output_type": "display_data"
    },
    {
     "name": "stdout",
     "output_type": "stream",
     "text": [
      "sponza 95\n"
     ]
    },
    {
     "data": {
      "application/vnd.jupyter.widget-view+json": {
       "model_id": "5bc8fc49213841e88dfc8b454e1a7f7b",
       "version_major": 2,
       "version_minor": 0
      },
      "text/plain": [
       "  0%|          | 0/826 [00:00<?, ?it/s]"
      ]
     },
     "metadata": {},
     "output_type": "display_data"
    },
    {
     "name": "stdout",
     "output_type": "stream",
     "text": [
      "sponza 96\n"
     ]
    },
    {
     "data": {
      "application/vnd.jupyter.widget-view+json": {
       "model_id": "022b1f6bfc7542aabe08186857157eef",
       "version_major": 2,
       "version_minor": 0
      },
      "text/plain": [
       "  0%|          | 0/826 [00:00<?, ?it/s]"
      ]
     },
     "metadata": {},
     "output_type": "display_data"
    },
    {
     "name": "stdout",
     "output_type": "stream",
     "text": [
      "sponza 97\n"
     ]
    },
    {
     "data": {
      "application/vnd.jupyter.widget-view+json": {
       "model_id": "dc4058c53e0543f9905f24a009d96a1c",
       "version_major": 2,
       "version_minor": 0
      },
      "text/plain": [
       "  0%|          | 0/826 [00:00<?, ?it/s]"
      ]
     },
     "metadata": {},
     "output_type": "display_data"
    },
    {
     "name": "stdout",
     "output_type": "stream",
     "text": [
      "sponza 98\n"
     ]
    },
    {
     "data": {
      "application/vnd.jupyter.widget-view+json": {
       "model_id": "22606c5b07e6410bbdb9ba469f91229c",
       "version_major": 2,
       "version_minor": 0
      },
      "text/plain": [
       "  0%|          | 0/826 [00:00<?, ?it/s]"
      ]
     },
     "metadata": {},
     "output_type": "display_data"
    },
    {
     "name": "stdout",
     "output_type": "stream",
     "text": [
      "sponza 99\n",
      "Wall time: 9h 1min 48s\n"
     ]
    }
   ],
   "source": [
    "%%time\n",
    "\n",
    "scenes = ['car', 'chess', 'dragon', 'sponza']\n",
    "n_scenes = len(scenes)\n",
    "\n",
    "projection_coef = [np.zeros((n_ab[index_res], n_ab[index_res], 3), dtype=np.float32) for index_res in range(n_res)]\n",
    "\n",
    "n_iter = 50\n",
    "rng = cp.random.default_rng()\n",
    "\n",
    "mse_discrete = np.zeros((n_res, n_f), dtype=np.float32)\n",
    "\n",
    "for target_index in np.arange(69, 100, dtype=np.uint8):\n",
    "    #with tqdm(total=n_scenes * n_res * (n_group * n_group + n_iter + n_f)) as pbar:\n",
    "    with tqdm(total=n_group * n_group + n_iter + n_f) as pbar:\n",
    "        element_indices_per_group = []\n",
    "        for index_res in range(n_res):\n",
    "            chunk_incidence_per_element = np.any(projection[index_res][target_index], axis=(1, 3))\n",
    "            element_assignment_per_group = np.minimum(np.argmax(chunk_incidence_per_element, axis=1), n_group-1).reshape(1, n_ab[index_res]) == np.arange(n_group).reshape(n_group, 1)\n",
    "            element_indices_per_group.append([np.nonzero(element_assignment)[0] for element_assignment in element_assignment_per_group])\n",
    "        \n",
    "        #for scene in scenes:\n",
    "        for scene in ['sponza']:\n",
    "            print(scene, target_index)\n",
    "            # Load scene.\n",
    "            light_field = zarr.open('data/' + scene + '_sampled.zarr', mode='r')\n",
    "\n",
    "            # Load initial values from sampled light field.\n",
    "            sample_values = np.empty((n_u, chunk_group, chunk_v, n_u, n_chunk, chunk_v, 3), dtype=np.float32)\n",
    "            sample_values[:, 1:, :] = light_field[:, :chunk_group-1, :]\n",
    "\n",
    "            for idx_group in range(n_group):\n",
    "                slice_x = slice(idx_group, idx_group + chunk_group)\n",
    "                \n",
    "                # Load more values from sampled light field.\n",
    "                sample_values[:, :-1, :] = sample_values[:, 1:, :]\n",
    "                sample_values[:, -1, :] = light_field[:, idx_group+chunk_group-1, :]\n",
    "\n",
    "                for idy_group in range(n_group):\n",
    "                    slice_y = slice(idy_group, idy_group + chunk_group)\n",
    "\n",
    "                    # Load sample values into the GPU for this group.\n",
    "                    sample_values_GPU = cp.array(sample_values[:, :, :, :, slice_y, :].reshape(n_u * chunk_group * chunk_v, n_u * chunk_group * chunk_v, 3))\n",
    "\n",
    "                    #for index_res in range(n_res):\n",
    "                    for index_res in [3]:\n",
    "                        # Display elements assigned to this group.\n",
    "                        idx_element = element_indices_per_group[index_res][idx_group]\n",
    "                        idy_element = element_indices_per_group[index_res][idy_group]\n",
    "\n",
    "                        # Compute discrete projection.\n",
    "                        lm_x_GPU = cp.array(projection[index_res].oindex[target_index, idx_element, :, slice_x, :].reshape(-1, n_u * chunk_group * chunk_v))\n",
    "                        lm_y_GPU = cp.array(projection[index_res].oindex[target_index, idy_element, :, slice_y, :].reshape(-1, n_u * chunk_group * chunk_v))\n",
    "                        projection_coef[index_res][np.ix_(idx_element, idy_element)] = cp.einsum('hx,vy,xyc->hvc', lm_x_GPU, lm_y_GPU, sample_values_GPU).get()\n",
    "\n",
    "                        # Update progress bar.\n",
    "                        pbar.update()\n",
    "\n",
    "                    # Free GPU memory\n",
    "                    del sample_values_GPU\n",
    "                    del lm_x_GPU\n",
    "                    del lm_y_GPU\n",
    "                    mempool.free_all_blocks()\n",
    "                        \n",
    "            reference_images = zarr.open('data/{}/reference.zarr'.format(scene), mode='r')\n",
    "\n",
    "            #for index_res in range(n_res):\n",
    "            for index_res in [3]:\n",
    "                simulation = cp.array(zarr.open('data/matrices/simulation-{}x{}.zarr'.format(n_a[index_res], n_b[index_res]), mode='r'))\n",
    "\n",
    "                # Discrete coefficients.\n",
    "                coefficients = 1.0 - rng.random((n_ab[index_res], n_ab[index_res], 3), dtype=cp.float32)\n",
    "                proj_GPU = cp.array(projection_coef[index_res])\n",
    "                autocorrelation = cp.array(zarr.open('data/matrices/autocorrelation-{}x{}.zarr'.format(n_a[index_res], n_b[index_res]), mode='r')[target_index])\n",
    "                # For each multiplicative rule iteration...\n",
    "                for iteration in range(n_iter):\n",
    "                    # Apply the autocorrelation linear map on current coefficients.\n",
    "                    temp = cp.tensordot(autocorrelation, cp.tensordot(autocorrelation, coefficients, axes=(1, 1)), axes=(1, 1))\n",
    "                    # Divide the projected coefficients by the autocorrelated coefficients.\n",
    "                    temp = cp.add(temp, cp.finfo(cp.float32).eps, out=temp)\n",
    "                    temp = cp.divide(proj_GPU, temp, out=temp)\n",
    "                    # Update current coefficients with the multiplicative rule.\n",
    "                    coefficients = cp.multiply(coefficients, temp, out=coefficients)\n",
    "                    # Clip coefficients to interval [0, 1].\n",
    "                    coefficients = cp.clip(coefficients, 0.0, 1.0, out=coefficients)\n",
    "\n",
    "                    # Update progress bar.\n",
    "                    pbar.update()\n",
    "\n",
    "                # Discrete retinal images.\n",
    "                for index_f in range(n_f):\n",
    "                    retinal_image = cp.tensordot(simulation[index_f], cp.tensordot(simulation[index_f], coefficients, axes=(1, 1)), axes=(1, 1)).get()\n",
    "                    mse_discrete[index_res, index_f] = np.mean(np.square(reference_images[index_f] - retinal_image))\n",
    "                    if index_f == target_index:\n",
    "                        save_image('{}/{}x{}/f{}-discrete'.format(scene, n_a[index_res], n_b[index_res], index_f), retinal_image)\n",
    "                    \n",
    "                    # Update progress bar.\n",
    "                    pbar.update()\n",
    "\n",
    "                # Free GPU memory\n",
    "                del simulation\n",
    "                del coefficients\n",
    "                del proj_GPU\n",
    "                del autocorrelation\n",
    "                del temp\n",
    "                mempool.free_all_blocks()\n",
    "\n",
    "                #zarr.open('data/{}/mse-discrete.zarr'.format(scene), mode='a', shape=(n_f, n_res, n_f), chunks=(1, n_res, n_f), dtype=np.float32)[target_index] = mse_discrete\n",
    "                zarr.open('data/{}/mse-discrete.zarr'.format(scene), mode='a', shape=(n_f, n_res, n_f), chunks=(1, n_res, n_f), dtype=np.float32)[target_index, 3] = mse_discrete[3]"
   ]
  }
 ],
 "metadata": {
  "kernelspec": {
   "display_name": "lfd-env",
   "language": "python",
   "name": "python3"
  },
  "language_info": {
   "codemirror_mode": {
    "name": "ipython",
    "version": 3
   },
   "file_extension": ".py",
   "mimetype": "text/x-python",
   "name": "python",
   "nbconvert_exporter": "python",
   "pygments_lexer": "ipython3",
   "version": "3.8.12"
  },
  "orig_nbformat": 4
 },
 "nbformat": 4,
 "nbformat_minor": 2
}
