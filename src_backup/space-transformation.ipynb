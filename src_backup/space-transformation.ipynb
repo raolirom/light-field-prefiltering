{
 "cells": [
  {
   "cell_type": "code",
   "execution_count": null,
   "metadata": {
    "tags": []
   },
   "outputs": [],
   "source": [
    "%matplotlib widget\r\n",
    "import numpy as np\r\n",
    "from matplotlib import pyplot\r\n",
    "import ipywidgets as widgets\r\n",
    "from IPython.display import display\r\n",
    "\r\n",
    "z_r = 0.3\r\n",
    "z_a = 1.0/0.7 - 1.0\r\n",
    "z_b = 1.0/0.5 - 1.0\r\n",
    "\r\n",
    "def line_box_intersection(a, b=-1.0, c=0.0, bottom=-1.0, top=1.0, left=-1.0, right=1.0):\r\n",
    "    '''Return the intersections of line ax + by = c and the box (bottom, top, left, right).'''\r\n",
    "    x_coords = np.array([(c - b * bottom), (c - b * top),          left ,          right ]) / [a, a, 1, 1]\r\n",
    "    y_coords = np.array([         bottom ,          top , (c - a * left), (c - a * right)]) / [1, 1, b, b]\r\n",
    "\r\n",
    "    args = np.argsort(x_coords)[1:3]\r\n",
    "\r\n",
    "    return x_coords[args], y_coords[args]\r\n",
    "\r\n",
    "def initialize_axes(ax, title):\r\n",
    "    ax.clear()\r\n",
    "    ax.set_xlim(-1.0, 1.0)\r\n",
    "    ax.set_ylim(-1.0, 1.0)\r\n",
    "    ax.grid()\r\n",
    "    ax.set_aspect('equal')\r\n",
    "    ax.set_title(title)\r\n",
    "    ax.tick_params(which='both', bottom=False, top=False, labelbottom=False, labeltop=False)\r\n",
    "    ax.tick_params(which='both', left=False, right=False, labelleft=False, labelright=False)\r\n",
    "\r\n",
    "def update_plot(xi_r, xi_p, param_f):\r\n",
    "    initialize_axes(eye_ax, r'Eye space')\r\n",
    "    initialize_axes(dsp_ax, r'Display space')\r\n",
    "\r\n",
    "    z_f = np.nan_to_num(np.divide(1.0, param_f) - 1.0)\r\n",
    "    dsp_ax.plot(*line_box_intersection(z_a, z_b, 0.0), '0.5')\r\n",
    "\r\n",
    "    eye_ax.plot([ xi_r,  xi_r], [-1.0, 1.0], 'r')\r\n",
    "    eye_ax.plot([-xi_r, -xi_r], [-1.0, 1.0], 'r')\r\n",
    "    dsp_ax.plot(*line_box_intersection(z_a, z_b, z_r * xi_r), 'r')\r\n",
    "    dsp_ax.plot(*line_box_intersection(z_a, z_b, -z_r * xi_r), 'r')\r\n",
    "\r\n",
    "    eye_ax.plot([-1.0, 1.0], [ xi_p,  xi_p], 'b')\r\n",
    "    eye_ax.plot([-1.0, 1.0], [-xi_p, -xi_p], 'b')\r\n",
    "    dsp_ax.plot(*line_box_intersection(z_f - z_a, z_f - z_b, z_f * xi_p), 'b')\r\n",
    "    dsp_ax.plot(*line_box_intersection(z_f - z_a, z_f - z_b, -z_f * xi_p), 'b')\r\n",
    "\r\n",
    "fig = pyplot.figure(figsize=(10.0, 5.0))\r\n",
    "eye_ax, dsp_ax = fig.subplots(1, 2)\r\n",
    "\r\n",
    "xi_r = widgets.FloatSlider(value=0.6, min=0.0, max=1.0, step=0.01, description=r'\\(\\xi_r\\)')\r\n",
    "xi_p = widgets.FloatSlider(value=0.4, min=0.0, max=1.0, step=0.01, description=r'\\(\\xi_p\\)')\r\n",
    "param_f = widgets.FloatSlider(value=0.0, min=0.0, max=1.0, step=0.01, description=r'(\\frac{1}{z_f + 1})')\r\n",
    "ui = widgets.HBox([xi_r, xi_p, param_f])\r\n",
    "out = widgets.interactive_output(update_plot, {'xi_r': xi_r, 'xi_p': xi_p, 'param_f': param_f})\r\n",
    "display(ui, out)"
   ]
  },
  {
   "cell_type": "markdown",
   "metadata": {},
   "source": [
    "$\\Large L(x, y) \\xrightarrow{\\mathscr{F}} \\widehat{L}(\\xi, \\upsilon)$"
   ]
  }
 ],
 "metadata": {
  "interpreter": {
   "hash": "22fe2ab97ffc4a03d1884091aea1014b49711a1b8ca181251fd30f642e564bec"
  },
  "kernelspec": {
   "display_name": "Python 3.8.10 64-bit ('lfd-env': conda)",
   "name": "python3"
  },
  "language_info": {
   "name": "python",
   "version": ""
  },
  "orig_nbformat": 3
 },
 "nbformat": 4,
 "nbformat_minor": 1
}