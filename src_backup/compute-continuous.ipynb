{
 "cells": [
  {
   "cell_type": "code",
   "execution_count": 1,
   "metadata": {},
   "outputs": [],
   "source": [
    "import os\n",
    "os.environ['CUPY_ACCELERATORS'] = 'cutensor'\n",
    "import numpy as np\n",
    "import cupy as cp\n",
    "from scipy import fft\n",
    "import zarr\n",
    "from matplotlib import pyplot, colors, cm\n",
    "from PIL import Image\n",
    "from IPython.display import display\n",
    "from tqdm.notebook import tqdm, trange\n",
    "\n",
    "mempool = cp.get_default_memory_pool()\n",
    "pinned_mempool = cp.get_default_pinned_memory_pool()\n",
    "\n",
    "def bytesize_string(nbytes):\n",
    "    unit =          ['B',  'KiB' ,  'MiB' ,  'GiB' ,  'TiB' ,  'PiB' ,  'EiB' ,  'ZiB' ,  'YiB' ]\n",
    "    size = np.array([ 1 , 1/2**10, 1/2**20, 1/2**30, 1/2**40, 1/2**50, 1/2**60, 1/2**70, 1/2**80]) * nbytes\n",
    "    order_of_magnitude = np.argmax(size < 1.0) - 1\n",
    "    return '{} {}'.format(size[order_of_magnitude], unit[order_of_magnitude])\n",
    "\n",
    "def array_stats(a):\n",
    "    print('{} × {} = {} | min: {}, max: {}, avg: {}'.format(a.shape, a.dtype, bytesize_string(a.nbytes), np.amin(a), np.amax(a), np.average(a)))\n",
    "\n",
    "def display_image(values, color_map=None):\n",
    "    values = values if color_map is None else cm.get_cmap(color_map)(values)\n",
    "    display(Image.fromarray((np.flip(np.swapaxes(values, 0, 1), axis=0) * 255.0).astype(np.uint8)))\n",
    "    \n",
    "def save_image(name, values, color_map=None):\n",
    "    values = values if color_map is None else cm.get_cmap(color_map)(values)\n",
    "    Image.fromarray((np.flip(np.swapaxes(values, 0, 1), axis=0) * 255.0).astype(np.uint8)).save('figures/{}.png'.format(name))"
   ]
  },
  {
   "cell_type": "code",
   "execution_count": 2,
   "metadata": {},
   "outputs": [],
   "source": [
    "# Focus range\n",
    "n_f = 100\n",
    "zeta_F = np.linspace(0.0, 5.0, num=n_f) / 1000\n",
    "\n",
    "selected_indices = np.arange(n_f, dtype=np.uint8) * 10"
   ]
  },
  {
   "cell_type": "code",
   "execution_count": 3,
   "metadata": {},
   "outputs": [],
   "source": [
    "n_r = 1024\n",
    "\n",
    "n_u = 20\n",
    "n_v = 1080\n",
    "chunk_v = 40\n",
    "n_chunk = n_v//chunk_v\n",
    "\n",
    "n_res = 4\n",
    "\n",
    "n_a = np.arange(1, n_res+1, dtype=np.uint32) * 12\n",
    "n_b = np.arange(1, n_res+1, dtype=np.uint32) * 140"
   ]
  },
  {
   "cell_type": "code",
   "execution_count": 4,
   "metadata": {},
   "outputs": [],
   "source": [
    "reference = zarr.open('data/matrices/reference.zarr', mode='r')\n",
    "\n",
    "interpolation = []\n",
    "naive = []\n",
    "projection = []\n",
    "\n",
    "for index_res in range(n_res):\n",
    "    interpolation.append(zarr.open('data/matrices/interpolation-{}x{}.zarr'.format(n_a[index_res], n_b[index_res]), mode='r'))\n",
    "    naive.append(zarr.open('data/matrices/naive-{}x{}.zarr'.format(n_a[index_res], n_b[index_res]), mode='r'))\n",
    "    projection.append(zarr.open('data/matrices/continuous-projection-{}x{}.zarr'.format(n_a[index_res], n_b[index_res]), mode='r'))\n",
    "\n",
    "n_ab = [l.shape[0] for l in interpolation]"
   ]
  },
  {
   "cell_type": "code",
   "execution_count": 5,
   "metadata": {},
   "outputs": [
    {
     "name": "stdout",
     "output_type": "stream",
     "text": [
      "Computing assignments to chunk groups...\n",
      "\n",
      "Light field group size: 2\n",
      "Number of light field groups: 26\n"
     ]
    },
    {
     "data": {
      "application/vnd.jupyter.widget-view+json": {
       "model_id": "c877f0da1d7b44afaed3068a49a4792a",
       "version_major": 2,
       "version_minor": 0
      },
      "text/plain": [
       "  0%|          | 0/5 [00:00<?, ?it/s]"
      ]
     },
     "metadata": {},
     "output_type": "display_data"
    },
    {
     "name": "stdout",
     "output_type": "stream",
     "text": [
      "\n",
      "Retina pixel assignment and count per light field group:\n",
      "(26, 1024) × bool = 26.0 KiB | min: False, max: True, avg: 0.038461538461538464\n",
      "(26,) × uint16 = 52.0 B | min: 36, max: 60, avg: 39.38461538461539\n",
      "\n",
      "[Display Resolution 12 x 140]\n",
      "Display element assignment and count per light field group:\n",
      "(26, 680) × bool = 17.265625 KiB | min: False, max: True, avg: 0.038461538461538464\n",
      "(26,) × uint16 = 52.0 B | min: 21, max: 42, avg: 26.153846153846153\n",
      "\n",
      "[Display Resolution 24 x 280]\n",
      "Display element assignment and count per light field group:\n",
      "(26, 2416) × bool = 61.34375 KiB | min: False, max: True, avg: 0.038461538461538464\n",
      "(26,) × uint16 = 52.0 B | min: 82, max: 156, avg: 92.92307692307692\n",
      "\n",
      "[Display Resolution 36 x 420]\n",
      "Display element assignment and count per light field group:\n",
      "(26, 5198) × bool = 131.98046875 KiB | min: False, max: True, avg: 0.038461538461538464\n",
      "(26,) × uint16 = 52.0 B | min: 185, max: 330, avg: 199.92307692307693\n",
      "\n",
      "[Display Resolution 48 x 560]\n",
      "Display element assignment and count per light field group:\n",
      "(26, 9056) × bool = 229.9375 KiB | min: False, max: True, avg: 0.038461538461538464\n",
      "(26,) × uint16 = 52.0 B | min: 324, max: 588, avg: 348.3076923076923\n",
      "Wall time: 21.7 s\n"
     ]
    }
   ],
   "source": [
    "%%time\n",
    "print('Computing assignments to chunk groups...')\n",
    "\n",
    "# Number of light field groups.\n",
    "chunk_group = 2\n",
    "n_group = n_chunk - (chunk_group - 1)\n",
    "\n",
    "print('\\nLight field group size:', chunk_group)\n",
    "print('Number of light field groups:', n_group)\n",
    "\n",
    "\n",
    "\n",
    "with tqdm(total=1 + n_res) as pbar:\n",
    "    \n",
    "    # Light field chunk incidence on retina pixels.\n",
    "    chunk_incidence_per_pixel = np.any(reference, axis=(0, 2, 4))\n",
    "    chunk_group_pixel = np.amax(np.count_nonzero(chunk_incidence_per_pixel, axis=1))\n",
    "\n",
    "    if chunk_group_pixel > chunk_group:\n",
    "        print('ERROR! Chunk incidence of {} is bigger than chunk group of {}'.format(chunk_group_pixel, chunk_group))\n",
    "\n",
    "    # Retina pixel assignment to light field groups.\n",
    "    pixel_assignment_per_group = np.minimum(np.argmax(chunk_incidence_per_pixel, axis=1), n_group-1).reshape(1, n_r) == np.arange(n_group).reshape(n_group, 1)\n",
    "\n",
    "    # Retina pixel count per light field group.\n",
    "    pixel_count_per_group = np.count_nonzero(pixel_assignment_per_group, axis=1).astype(np.uint16)\n",
    "\n",
    "    # Retina pixel indices per light field group.\n",
    "    pixel_indices_per_group = [np.nonzero(pixel_assignment)[0] for pixel_assignment in pixel_assignment_per_group]\n",
    "\n",
    "    print('\\nRetina pixel assignment and count per light field group:')\n",
    "    array_stats(pixel_assignment_per_group)\n",
    "    array_stats(pixel_count_per_group)\n",
    "\n",
    "    # Update progress bar.\n",
    "    pbar.update()\n",
    "\n",
    "\n",
    "\n",
    "    element_indices_per_group = []\n",
    "\n",
    "    for index_res in range(n_res):\n",
    "        print('\\n[Display Resolution {} x {}]'.format(n_a[index_res], n_b[index_res]))\n",
    "        \n",
    "        # Light field chunk incidence on display elements.\n",
    "        chunk_incidence_per_element = np.logical_or(np.logical_or(np.any(interpolation[index_res], axis=(1, 3)), np.any(naive[index_res], axis=(1, 3))), np.any(projection[index_res], axis=(1, 3)))\n",
    "        chunk_group_element = np.amax(np.count_nonzero(chunk_incidence_per_element, axis=1))\n",
    "\n",
    "        if chunk_group_element > chunk_group:\n",
    "            print('ERROR! Chunk incidence of {} is bigger than chunk group of {}'.format(chunk_group_element, chunk_group))\n",
    "\n",
    "        # Display element assignment to light field groups.\n",
    "        element_assignment_per_group = np.minimum(np.argmax(chunk_incidence_per_element, axis=1), n_group-1).reshape(1, n_ab[index_res]) == np.arange(n_group).reshape(n_group, 1)\n",
    "\n",
    "        # Display element count per light field group.\n",
    "        element_count_per_group = np.count_nonzero(element_assignment_per_group, axis=1).astype(np.uint16)\n",
    "\n",
    "        # Display element indices per light field group.\n",
    "        element_indices_per_group.append([np.nonzero(element_assignment)[0] for element_assignment in element_assignment_per_group])\n",
    "\n",
    "        print('Display element assignment and count per light field group:')\n",
    "        array_stats(element_assignment_per_group)\n",
    "        array_stats(element_count_per_group)\n",
    "\n",
    "        # Update progress bar.\n",
    "        pbar.update()"
   ]
  },
  {
   "cell_type": "code",
   "execution_count": 6,
   "metadata": {},
   "outputs": [
    {
     "name": "stdout",
     "output_type": "stream",
     "text": [
      "Processing the light field samples from scene \"car\"...\n"
     ]
    },
    {
     "data": {
      "application/vnd.jupyter.widget-view+json": {
       "model_id": "734394a57d024dc79b7ede7311664ff0",
       "version_major": 2,
       "version_minor": 0
      },
      "text/plain": [
       "  0%|          | 0/3380 [00:00<?, ?it/s]"
      ]
     },
     "metadata": {},
     "output_type": "display_data"
    },
    {
     "name": "stdout",
     "output_type": "stream",
     "text": [
      "Simulating retinal images...\n"
     ]
    },
    {
     "data": {
      "application/vnd.jupyter.widget-view+json": {
       "model_id": "2a6b2237117541bbbd20c93c3d9937c0",
       "version_major": 2,
       "version_minor": 0
      },
      "text/plain": [
       "  0%|          | 0/1200 [00:00<?, ?it/s]"
      ]
     },
     "metadata": {},
     "output_type": "display_data"
    },
    {
     "name": "stdout",
     "output_type": "stream",
     "text": [
      "Processing the light field samples from scene \"chess\"...\n"
     ]
    },
    {
     "data": {
      "application/vnd.jupyter.widget-view+json": {
       "model_id": "2ed775f781934d88a919bb53c3774c11",
       "version_major": 2,
       "version_minor": 0
      },
      "text/plain": [
       "  0%|          | 0/3380 [00:00<?, ?it/s]"
      ]
     },
     "metadata": {},
     "output_type": "display_data"
    },
    {
     "name": "stdout",
     "output_type": "stream",
     "text": [
      "Simulating retinal images...\n"
     ]
    },
    {
     "data": {
      "application/vnd.jupyter.widget-view+json": {
       "model_id": "2526102f713348c0b9557150bee6f0c4",
       "version_major": 2,
       "version_minor": 0
      },
      "text/plain": [
       "  0%|          | 0/1200 [00:00<?, ?it/s]"
      ]
     },
     "metadata": {},
     "output_type": "display_data"
    },
    {
     "name": "stdout",
     "output_type": "stream",
     "text": [
      "Processing the light field samples from scene \"dragon\"...\n"
     ]
    },
    {
     "data": {
      "application/vnd.jupyter.widget-view+json": {
       "model_id": "d1091bacf62a46be9a081943f2a7a3be",
       "version_major": 2,
       "version_minor": 0
      },
      "text/plain": [
       "  0%|          | 0/3380 [00:00<?, ?it/s]"
      ]
     },
     "metadata": {},
     "output_type": "display_data"
    },
    {
     "name": "stdout",
     "output_type": "stream",
     "text": [
      "Simulating retinal images...\n"
     ]
    },
    {
     "data": {
      "application/vnd.jupyter.widget-view+json": {
       "model_id": "562e9047749140d0a00339170086b00a",
       "version_major": 2,
       "version_minor": 0
      },
      "text/plain": [
       "  0%|          | 0/1200 [00:00<?, ?it/s]"
      ]
     },
     "metadata": {},
     "output_type": "display_data"
    },
    {
     "name": "stdout",
     "output_type": "stream",
     "text": [
      "Processing the light field samples from scene \"sponza\"...\n"
     ]
    },
    {
     "data": {
      "application/vnd.jupyter.widget-view+json": {
       "model_id": "4e53dafba64146e991686d93158982d4",
       "version_major": 2,
       "version_minor": 0
      },
      "text/plain": [
       "  0%|          | 0/3380 [00:00<?, ?it/s]"
      ]
     },
     "metadata": {},
     "output_type": "display_data"
    },
    {
     "name": "stdout",
     "output_type": "stream",
     "text": [
      "Simulating retinal images...\n"
     ]
    },
    {
     "data": {
      "application/vnd.jupyter.widget-view+json": {
       "model_id": "d0d9ec7e84db43509dbf62855feae48b",
       "version_major": 2,
       "version_minor": 0
      },
      "text/plain": [
       "  0%|          | 0/1200 [00:00<?, ?it/s]"
      ]
     },
     "metadata": {},
     "output_type": "display_data"
    },
    {
     "name": "stdout",
     "output_type": "stream",
     "text": [
      "Wall time: 12h 22min 20s\n"
     ]
    }
   ],
   "source": [
    "%%time\n",
    "\n",
    "scenes = ['car', 'chess', 'dragon', 'sponza']\n",
    "n_scenes = len(scenes)\n",
    "\n",
    "reference_images = np.zeros((n_f, n_r, n_r, 3), dtype=np.float32)\n",
    "\n",
    "interpolation_coef = [np.zeros((n_ab[index_res], n_ab[index_res], 3), dtype=np.float32) for index_res in range(n_res)]\n",
    "naive_coef = [np.zeros((n_ab[index_res], n_ab[index_res], 3), dtype=np.float32) for index_res in range(n_res)]\n",
    "projection_coef = [np.zeros((n_ab[index_res], n_ab[index_res], 3), dtype=np.float32) for index_res in range(n_res)]\n",
    "\n",
    "n_iter = 50\n",
    "rng = cp.random.default_rng()\n",
    "\n",
    "mse_interpolation =      np.zeros((n_res, n_f), dtype=np.float32)\n",
    "mse_naive =              np.zeros((n_res, n_f), dtype=np.float32)\n",
    "mse_continuous = np.zeros((n_iter, n_res, n_f), dtype=np.float32)\n",
    "\n",
    "for scene in scenes:\n",
    "    print('Processing the light field samples from scene \"{}\"...'.format(scene))\n",
    "\n",
    "    # Load scene.\n",
    "    light_field = zarr.open('data/' + scene + '_sampled.zarr', mode='r')\n",
    "\n",
    "    # Load initial values from sampled light field.\n",
    "    sample_values = np.empty((n_u, chunk_group, chunk_v, n_u, n_chunk, chunk_v, 3), dtype=np.float32)\n",
    "    sample_values[:, 1:, :] = light_field[:, :chunk_group-1, :]\n",
    "\n",
    "    with tqdm(total=n_group * n_group * (1 + n_res)) as pbar:\n",
    "        for idx_group in range(n_group):\n",
    "            slice_x = slice(idx_group, idx_group + chunk_group)\n",
    "            \n",
    "            # Load more values from sampled light field.\n",
    "            sample_values[:, :-1, :] = sample_values[:, 1:, :]\n",
    "            sample_values[:, -1, :] = light_field[:, idx_group+chunk_group-1, :]\n",
    "\n",
    "            for idy_group in range(n_group):\n",
    "                slice_y = slice(idy_group, idy_group + chunk_group)\n",
    "\n",
    "                # Load sample values into the GPU for this group.\n",
    "                sample_values_GPU = cp.array(sample_values[:, :, :, :, slice_y, :].reshape(n_u * chunk_group * chunk_v, n_u * chunk_group * chunk_v, 3))\n",
    "\n",
    "                # Retina pixels assigned to this group.\n",
    "                idx_pixel = pixel_indices_per_group[idx_group]\n",
    "                idy_pixel = pixel_indices_per_group[idy_group]\n",
    "\n",
    "                # Compute reference image.\n",
    "                lm_x_GPU = cp.array(reference.oindex[:, idx_pixel, :, slice_x, :].reshape(n_f, -1, n_u * chunk_group * chunk_v))\n",
    "                lm_y_GPU = cp.array(reference.oindex[:, idy_pixel, :, slice_y, :].reshape(n_f, -1, n_u * chunk_group * chunk_v))\n",
    "                reference_images[np.ix_(range(n_f), idx_pixel, idy_pixel)] = cp.clip(cp.einsum('fhx,fvy,xyc->fhvc', lm_x_GPU, lm_y_GPU, sample_values_GPU), 0.0, 1.0).get()\n",
    "\n",
    "                # Update progress bar.\n",
    "                pbar.update()\n",
    "\n",
    "                for index_res in range(n_res):\n",
    "                    # Display elements assigned to this group.\n",
    "                    idx_element = element_indices_per_group[index_res][idx_group]\n",
    "                    idy_element = element_indices_per_group[index_res][idy_group]\n",
    "\n",
    "                    # Compute interpolated coefficients.\n",
    "                    lm_x_GPU = cp.array(interpolation[index_res].oindex[idx_element, :, slice_x, :].reshape(-1, n_u * chunk_group * chunk_v))\n",
    "                    lm_y_GPU = cp.array(interpolation[index_res].oindex[idy_element, :, slice_y, :].reshape(-1, n_u * chunk_group * chunk_v))\n",
    "                    interpolation_coef[index_res][np.ix_(idx_element, idy_element)] = cp.clip(cp.einsum('hx,vy,xyc->hvc', lm_x_GPU, lm_y_GPU, sample_values_GPU), 0.0, 1.0).get()\n",
    "\n",
    "                    # Compute naive coefficients.\n",
    "                    lm_x_GPU = cp.array(naive[index_res].oindex[idx_element, :, slice_x, :].reshape(-1, n_u * chunk_group * chunk_v))\n",
    "                    lm_y_GPU = cp.array(naive[index_res].oindex[idy_element, :, slice_y, :].reshape(-1, n_u * chunk_group * chunk_v))\n",
    "                    naive_coef[index_res][np.ix_(idx_element, idy_element)] = cp.clip(cp.einsum('hx,vy,xyc->hvc', lm_x_GPU, lm_y_GPU, sample_values_GPU), 0.0, 1.0).get()\n",
    "\n",
    "                    # Compute continuous projection.\n",
    "                    lm_x_GPU = cp.array(projection[index_res].oindex[idx_element, :, slice_x, :].reshape(-1, n_u * chunk_group * chunk_v))\n",
    "                    lm_y_GPU = cp.array(projection[index_res].oindex[idy_element, :, slice_y, :].reshape(-1, n_u * chunk_group * chunk_v))\n",
    "                    projection_coef[index_res][np.ix_(idx_element, idy_element)] = cp.einsum('hx,vy,xyc->hvc', lm_x_GPU, lm_y_GPU, sample_values_GPU).get()\n",
    "\n",
    "                    # Update progress bar.\n",
    "                    pbar.update()\n",
    "\n",
    "                # Free GPU memory\n",
    "                del sample_values_GPU\n",
    "                del lm_x_GPU\n",
    "                del lm_y_GPU\n",
    "                mempool.free_all_blocks()\n",
    "                \n",
    "        zarr.open('data/{}/reference.zarr'.format(scene), mode='w', shape=(n_f, n_r, n_r, 3), chunks=(1, n_r, n_r, 3), dtype=np.float32)[:] = reference_images\n",
    "        for index_f in range(n_f):\n",
    "            save_image('{}/reference/f{}-reference'.format(scene, index_f), reference_images[index_f])\n",
    "\n",
    "    print('Simulating retinal images...')\n",
    "    with tqdm(total=n_res * n_f * (2 + n_iter)) as pbar:\n",
    "        for index_res in range(n_res):\n",
    "            simulation = cp.array(zarr.open('data/matrices/simulation-{}x{}.zarr'.format(n_a[index_res], n_b[index_res]), mode='r'))\n",
    "            n_ab = simulation.shape[-1]\n",
    "\n",
    "            # Interpolation coefficients.\n",
    "            coefficients = cp.array(interpolation_coef[index_res])\n",
    "            # Interpolation retinal images.\n",
    "            for index_f in range(n_f):\n",
    "                retinal_image = cp.tensordot(simulation[index_f], cp.tensordot(simulation[index_f], coefficients, axes=(1, 1)), axes=(1, 1)).get()\n",
    "                mse_interpolation[index_res, index_f] = np.mean(np.square(reference_images[index_f] - retinal_image))\n",
    "                save_image('{}/{}x{}/f{}-interpolation'.format(scene, n_a[index_res], n_b[index_res], index_f), retinal_image)\n",
    "                pbar.update()\n",
    "\n",
    "            # Naive coefficients.\n",
    "            coefficients = cp.array(naive_coef[index_res])\n",
    "            # Naive retinal images.\n",
    "            for index_f in range(n_f):\n",
    "                retinal_image = cp.tensordot(simulation[index_f], cp.tensordot(simulation[index_f], coefficients, axes=(1, 1)), axes=(1, 1)).get()\n",
    "                mse_naive[index_res, index_f] = np.mean(np.square(reference_images[index_f] - retinal_image))\n",
    "                save_image('{}/{}x{}/f{}-naive'.format(scene, n_a[index_res], n_b[index_res], index_f), retinal_image)\n",
    "                pbar.update()\n",
    "\n",
    "            # Continuous coefficients.\n",
    "            coefficients = 1.0 - rng.random((n_ab, n_ab, 3), dtype=cp.float32)\n",
    "            proj_GPU = cp.array(projection_coef[index_res])\n",
    "            autocorrelation = cp.array(zarr.open('data/matrices/continuous-autocorrelation-{}x{}.zarr'.format(n_a[index_res], n_b[index_res]), mode='r'))\n",
    "            # For each multiplicative rule iteration...\n",
    "            for iteration in range(n_iter):\n",
    "                # Apply the autocorrelation linear map on current coefficients.\n",
    "                temp = cp.tensordot(autocorrelation, cp.tensordot(autocorrelation, coefficients, axes=(1, 1)), axes=(1, 1))\n",
    "                # Divide the projected coefficients by the autocorrelated coefficients.\n",
    "                temp = cp.add(temp, cp.finfo(cp.float32).eps, out=temp)\n",
    "                temp = cp.divide(proj_GPU, temp, out=temp)\n",
    "                # Update current coefficients with the multiplicative rule.\n",
    "                coefficients = cp.multiply(coefficients, temp, out=coefficients)\n",
    "                # Clip coefficients to interval [0, 1].\n",
    "                coefficients = cp.clip(coefficients, 0.0, 1.0, out=coefficients)\n",
    "\n",
    "                # Continuous retinal images.\n",
    "                for index_f in range(n_f):\n",
    "                    retinal_image = cp.tensordot(simulation[index_f], cp.tensordot(simulation[index_f], coefficients, axes=(1, 1)), axes=(1, 1)).get()\n",
    "                    mse_continuous[iteration, index_res, index_f] = np.mean(np.square(reference_images[index_f] - retinal_image))\n",
    "                    if iteration == (n_iter-1):\n",
    "                        save_image('{}/{}x{}/f{}-continuous'.format(scene, n_a[index_res], n_b[index_res], index_f), retinal_image)\n",
    "                    pbar.update()\n",
    "\n",
    "            # Free GPU memory\n",
    "            del simulation\n",
    "            del coefficients\n",
    "            del proj_GPU\n",
    "            del autocorrelation\n",
    "            del temp\n",
    "            mempool.free_all_blocks()\n",
    "\n",
    "        zarr.open('data/{}/mse-interpolation.zarr'.format(scene), mode='w', shape=(n_res, n_f), chunks=(n_res, n_f), dtype=np.float32)[:] = mse_interpolation\n",
    "        zarr.open('data/{}/mse-naive.zarr'.format(scene), mode='w', shape=(n_res, n_f), chunks=(n_res, n_f), dtype=np.float32)[:] = mse_naive\n",
    "        zarr.open('data/{}/mse-continuous.zarr'.format(scene), mode='w', shape=(n_iter, n_res, n_f), chunks=(1, n_res, n_f), dtype=np.float32)[:] = mse_continuous"
   ]
  }
 ],
 "metadata": {
  "kernelspec": {
   "display_name": "lfd-env",
   "language": "python",
   "name": "python3"
  },
  "language_info": {
   "codemirror_mode": {
    "name": "ipython",
    "version": 3
   },
   "file_extension": ".py",
   "mimetype": "text/x-python",
   "name": "python",
   "nbconvert_exporter": "python",
   "pygments_lexer": "ipython3",
   "version": "3.8.12"
  },
  "orig_nbformat": 4
 },
 "nbformat": 4,
 "nbformat_minor": 2
}
