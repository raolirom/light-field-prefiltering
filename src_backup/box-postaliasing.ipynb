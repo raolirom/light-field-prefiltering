{
 "cells": [
  {
   "cell_type": "code",
   "execution_count": 1,
   "metadata": {},
   "outputs": [],
   "source": [
    "from PIL import Image\n",
    "import numpy as np\n",
    "import cupy as cp\n",
    "from matplotlib import cm\n",
    "from IPython.display import display"
   ]
  },
  {
   "cell_type": "code",
   "execution_count": 2,
   "metadata": {},
   "outputs": [],
   "source": [
    "def compute_coordinates(res, size):\n",
    "    \"\"\"Return an array of shape (res) containing the coordinates of a sampling lattice.\"\"\"\n",
    "    pitch = size / res\n",
    "    indices = cp.arange(res)\n",
    "    return (-size/2 + pitch/2) + indices * pitch\n",
    "\n",
    "def convolution_matrix(x_in, x_out, kernel):\n",
    "    \"\"\"Return a convolution matrix with given kernel.\"\"\"\n",
    "    return kernel(x_out[..., np.newaxis] - x_in)\n",
    "\n",
    "def cosine_signal(x, frequency, phase=0.0):\n",
    "    \"\"\"Sample a cosine with given frequency and phase at given sampling coordinates.\"\"\"\n",
    "    return cp.cos((x * frequency + phase) * 2 * np.pi)/2 + 0.5\n",
    "\n",
    "def display_image(values, color_map=None):\n",
    "    \"\"\"Display an array of values as an image using a color map.\"\"\"\n",
    "    color_values = cm.get_cmap(color_map)(values/np.amax(values))\n",
    "    uint8_values = (color_values * 255).astype(np.uint8)\n",
    "    display(Image.fromarray(uint8_values).transpose(Image.ROTATE_90))"
   ]
  },
  {
   "cell_type": "code",
   "execution_count": 3,
   "metadata": {},
   "outputs": [],
   "source": [
    "pixel_size = 31\n",
    "\n",
    "low_res = 33\n",
    "high_res = low_res * pixel_size\n",
    "\n",
    "impulse = cp.array([0.0]*(pixel_size//2) + [1.0] + [0.0]*(pixel_size//2))\n",
    "\n",
    "low_res_coords  = compute_coordinates( low_res, low_res)\n",
    "high_res_coords = compute_coordinates(high_res, low_res)\n",
    "\n",
    "sinc_kernel = cp.sinc(high_res_coords)\n",
    "blur_kernel = cp.exp(-cp.square(high_res_coords))\n",
    "\n",
    "sinc_matrix = convolution_matrix(low_res_coords, high_res_coords, kernel=cp.sinc)\n",
    "blur_matrix = convolution_matrix(high_res_coords, high_res_coords, kernel=lambda x: cp.exp(-cp.square(x)))\n",
    "blur_matrix /= cp.amax(cp.sum(blur_matrix, axis=0))\n",
    "\n",
    "low_signal_4 = cosine_signal(low_res_coords, 0.4) * 0.8 + 0.2\n",
    "low_signal_5 = cosine_signal(low_res_coords, 0.5) * 0.8 + 0.2\n",
    "low_signal_6 = cosine_signal(low_res_coords, 0.6) * 0.8 + 0.2\n",
    "low_signal_4_6 = (cp.sinc(0.4) * low_signal_4 + cp.sinc(0.6) * low_signal_6) / (cp.sinc(0.4) + cp.sinc(0.6))\n",
    "\n",
    "high_signal_4 = cosine_signal(high_res_coords, 0.4) * 0.8 + 0.2\n",
    "high_signal_5 = cosine_signal(high_res_coords, 0.5) * 0.8 + 0.2\n",
    "high_signal_6 = cosine_signal(high_res_coords, 0.6) * 0.8 + 0.2\n",
    "high_signal_4_6 = (cp.sinc(0.4) * high_signal_4 + cp.sinc(0.6) * high_signal_6) / (cp.sinc(0.4) + cp.sinc(0.6))"
   ]
  },
  {
   "cell_type": "code",
   "execution_count": 4,
   "metadata": {},
   "outputs": [
    {
     "output_type": "display_data",
     "data": {
      "text/plain": "<PIL.Image.Image image mode=RGBA size=1023x93 at 0x277CFE2EF48>",
      "image/png": "[encoded data removed]"
     },
     "metadata": {}
    }
   ],
   "source": [
    "img = cp.stack((\n",
    "    high_signal_5,\n",
    "    cp.kron(low_signal_5, impulse),\n",
    "    cp.repeat(low_signal_5, pixel_size)\n",
    "    ), axis=1)\n",
    "\n",
    "display_image(cp.repeat(cp.flip(img, axis=1), pixel_size, axis=1).get())"
   ]
  },
  {
   "cell_type": "markdown",
   "metadata": {},
   "source": [
    "Figure 1\n",
    "* a) Signal with frequency 0.5 (at Nyquist limit)\n",
    "* b) Sampling of signal (a)\n",
    "* c) Signal reconstructed with box kernel from samples on (b)"
   ]
  },
  {
   "cell_type": "code",
   "execution_count": 5,
   "metadata": {},
   "outputs": [
    {
     "output_type": "display_data",
     "data": {
      "text/plain": "<PIL.Image.Image image mode=RGBA size=1023x155 at 0x277E44FE148>",
      "image/png": "[encoded data removed]"
     },
     "metadata": {}
    }
   ],
   "source": [
    "img = cp.stack((\n",
    "    high_signal_4,\n",
    "    cp.kron(low_signal_4, impulse),\n",
    "    cp.repeat(low_signal_4, pixel_size),\n",
    "    cp.kron(low_signal_4_6, impulse),\n",
    "    high_signal_4_6\n",
    "    ), axis=1)\n",
    "\n",
    "display_image(cp.repeat(cp.flip(img, axis=1), pixel_size, axis=1).get())"
   ]
  },
  {
   "cell_type": "markdown",
   "metadata": {},
   "source": [
    "Figure 2\n",
    "* a) Signal with frequency 0.4 (below Nyquist limit)\n",
    "* b) Sampling of signal (a)\n",
    "* c) Signal reconstructed with box kernel from samples on (b)\n",
    "* d) Sampling of signal (e)\n",
    "* e) Signal with a mix of frequencies 0.4 and 0.6"
   ]
  },
  {
   "cell_type": "code",
   "execution_count": 6,
   "metadata": {},
   "outputs": [
    {
     "output_type": "display_data",
     "data": {
      "text/plain": "<PIL.Image.Image image mode=RGBA size=1023x155 at 0x277CFE2C548>",
      "image/png": "[encoded data removed]"
     },
     "metadata": {}
    }
   ],
   "source": [
    "img = cp.stack((\n",
    "    high_signal_4,\n",
    "    cp.kron(low_signal_4, impulse),\n",
    "    cp.abs(sinc_kernel),\n",
    "    cp.clip(sinc_matrix @ low_signal_4, 0.0, 1.0),\n",
    "    high_signal_4\n",
    "    ), axis=1)\n",
    "\n",
    "display_image(cp.repeat(cp.flip(img, axis=1), pixel_size, axis=1).get())"
   ]
  },
  {
   "cell_type": "markdown",
   "metadata": {},
   "source": [
    "Figure 3\n",
    "* a) Signal with frequency 0.4 (below Nyquist limit)\n",
    "* b) Sampling of signal (a)\n",
    "* c) Sinc kernel (absolute value)\n",
    "* d) Convolution of (b) and (c)\n",
    "* e) Same as (a), for ease of comparison"
   ]
  },
  {
   "cell_type": "code",
   "execution_count": 7,
   "metadata": {},
   "outputs": [
    {
     "output_type": "display_data",
     "data": {
      "text/plain": "<PIL.Image.Image image mode=RGBA size=1023x217 at 0x277CFE28908>",
      "image/png": "[encoded data removed]"
     },
     "metadata": {}
    }
   ],
   "source": [
    "blured_signal = cp.clip(blur_matrix @ cp.repeat(low_signal_4, pixel_size), 0.0, 1.0)\n",
    "\n",
    "contrast_signal = blured_signal - cp.amin(blured_signal[4*pixel_size:-4*pixel_size])\n",
    "contrast_signal = contrast_signal / cp.amax(contrast_signal[4*pixel_size:-4*pixel_size]) * 0.8 + 0.2\n",
    "\n",
    "img = cp.stack((\n",
    "    high_signal_4,\n",
    "    cp.kron(low_signal_4, impulse),\n",
    "    cp.repeat(low_signal_4, pixel_size),\n",
    "    blur_kernel,\n",
    "    blured_signal,\n",
    "    contrast_signal,\n",
    "    high_signal_4\n",
    "    ), axis=1)\n",
    "\n",
    "display_image(cp.repeat(cp.flip(img, axis=1), pixel_size, axis=1).get())"
   ]
  },
  {
   "cell_type": "markdown",
   "metadata": {},
   "source": [
    "Figure 4\n",
    "* a) Signal with frequency 0.4 (below Nyquist limit)\n",
    "* b) Sampling of signal (a)\n",
    "* c) Signal reconstructed with box kernel from samples on (b)\n",
    "* d) Gaussian blur kernel\n",
    "* e) Convolution of (c) and (d)\n",
    "* f) Signal (e) with artificial contrast correction\n",
    "* g) Same as (a), for ease of comparison"
   ]
  }
 ],
 "metadata": {
  "colab": {
   "authorship_tag": "ABX9TyM1zPoln8NH8fiJztecBvwu",
   "collapsed_sections": [],
   "name": "paper-figures.ipynb",
   "provenance": []
  },
  "kernelspec": {
   "display_name": "Python 3",
   "language": "python",
   "name": "python3"
  },
  "language_info": {
   "codemirror_mode": {
    "name": "ipython",
    "version": 3
   },
   "file_extension": ".py",
   "mimetype": "text/x-python",
   "name": "python",
   "nbconvert_exporter": "python",
   "pygments_lexer": "ipython3",
   "version": "3.7.7"
  }
 },
 "nbformat": 4,
 "nbformat_minor": 1
}