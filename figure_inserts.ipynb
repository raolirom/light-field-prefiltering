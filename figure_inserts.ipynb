{
 "cells": [
  {
   "cell_type": "code",
   "execution_count": null,
   "metadata": {},
   "outputs": [],
   "source": [
    "from PIL import Image, ImageDraw\n",
    "from IPython.display import display\n",
    "from tqdm.notebook import tqdm"
   ]
  },
  {
   "cell_type": "code",
   "execution_count": null,
   "metadata": {},
   "outputs": [],
   "source": [
    "insert_size = 128\n",
    "border = 2\n",
    "\n",
    "scenes = ['car', 'chess', 'dragon', 'sponza']\n",
    "\n",
    "methods = [['reference', '48x560-interp', '48x560-naive', '48x560-oX', '48x560-o1', '48x560-o2', '48x560-o3'],\n",
    "           ['reference', '36x420-interp', '36x420-naive', '36x420-oX', '36x420-o1', '36x420-o2', '36x420-o3'],\n",
    "           ['reference', '24x280-interp', '24x280-naive', '24x280-oX', '24x280-o1', '24x280-o2', '24x280-o3'],\n",
    "           ['reference', '12x140-interp', '12x140-naive', '12x140-oX', '12x140-o1', '12x140-o2', '12x140-o3']]\n",
    "\n",
    "coords = [[(355, 615), (  5, 455), (770, 390)],\n",
    "          [(473, 455), (660, 315), (300, 370)],\n",
    "          [(350, 360), (535, 540), (540, 385)],\n",
    "          [(270, 250), (440, 598), (490, 450)]]\n",
    "\n",
    "colors = ['#2ca02c', '#1f77b4', '#ff7f0e']\n",
    "\n",
    "n_scenes = len(scenes)\n",
    "n_res = len(methods)\n",
    "n_methods = len(methods[0])\n",
    "n_inserts = len(colors)\n",
    "n_f = 3\n",
    "\n",
    "images = []\n",
    "inserts = []\n",
    "\n",
    "with tqdm(total=n_scenes * n_f * n_res * n_methods * n_inserts) as pbar:\n",
    "    for scene_index in range(n_scenes):\n",
    "        images.append([])\n",
    "        inserts.append([])\n",
    "        for f_index in range(n_f):\n",
    "            images[scene_index].append([])\n",
    "            inserts[scene_index].append([])\n",
    "            for res_index in range(n_res):\n",
    "                images[scene_index][f_index].append([])\n",
    "                inserts[scene_index][f_index].append([])\n",
    "                for method_index in range(n_methods):\n",
    "                    with Image.open('figures/image-{}-f{}-{}.png'.format(scenes[scene_index], f_index+1, methods[res_index][method_index])) as img:\n",
    "                        images[scene_index][f_index][res_index].append(img)\n",
    "                        inserts[scene_index][f_index][res_index].append([])\n",
    "\n",
    "                        for insert_index in range(n_inserts):\n",
    "                            x, y = coords[scene_index][insert_index]\n",
    "                            insert = img.crop((x, y, x + insert_size, y + insert_size))\n",
    "                            inserts[scene_index][f_index][res_index][method_index].append(insert)\n",
    "\n",
    "                            ImageDraw.Draw(img).rectangle((x, y, x + insert_size - 1, y + insert_size - 1), outline=colors[insert_index], width=border)\n",
    "                            ImageDraw.Draw(insert).rectangle((0, 0, insert_size - 1, insert_size - 1), outline=colors[insert_index], width=border)\n",
    "                            pbar.update()\n",
    "\n",
    "                        img.save('figures/insert-{}-f{}-{}.png'.format(scenes[scene_index], f_index+1, methods[res_index][method_index]))"
   ]
  },
  {
   "cell_type": "code",
   "execution_count": null,
   "metadata": {},
   "outputs": [],
   "source": [
    "print('References with inserts')\n",
    "print('Columns: Near focus, Mid focus, Far focus')\n",
    "\n",
    "img = Image.new(mode='RGB', size=(3 * 1024, 1024))\n",
    "\n",
    "for scene_index in range(n_scenes):\n",
    "    for f_index in range(n_f):\n",
    "        img.paste(images[scene_index][f_index][0][0], (f_index * 1024, 0))\n",
    "    display(img)"
   ]
  },
  {
   "cell_type": "code",
   "execution_count": null,
   "metadata": {},
   "outputs": [],
   "source": [
    "img = Image.new(mode='RGB', size=(n_f * (insert_size-border) + border, n_methods * (insert_size-border) + border))\n",
    "\n",
    "for scene_index in range(n_scenes):\n",
    "    for insert_index in range(n_inserts):\n",
    "        for res_index in range(n_res):\n",
    "            for f_index in range(n_f):\n",
    "                for method_index in range(n_methods):\n",
    "                    img.paste(inserts[scene_index][f_index][res_index][method_index][insert_index], (f_index * (insert_size-border), method_index * (insert_size-border)))\n",
    "            print('\\n[Methods x Focus]    Scene: {}    Insert: {}    Resolution: {}'.format(scenes[scene_index], insert_index+1, res_index+1))\n",
    "            img.save('figures/insert-{}-{}-i{}.png'.format(scenes[scene_index], methods[res_index][method_index], insert_index+1))\n",
    "            display(img)"
   ]
  },
  {
   "cell_type": "code",
   "execution_count": null,
   "metadata": {},
   "outputs": [],
   "source": [
    "img = Image.new(mode='RGB', size=(n_res * (insert_size-border) + border, n_methods * (insert_size-border) + border))\n",
    "\n",
    "for scene_index in range(n_scenes):\n",
    "    for insert_index in range(n_inserts):\n",
    "        for f_index in range(n_f):\n",
    "            for res_index in range(n_res):\n",
    "                for method_index in range(n_methods):\n",
    "                    img.paste(inserts[scene_index][f_index][res_index][method_index][insert_index], (res_index * (insert_size-border), method_index * (insert_size-border)))\n",
    "            print('\\n[Methods x Resolutions]    Scene: {}    Insert: {}    Focus: {}'.format(scenes[scene_index], insert_index+1, f_index+1))\n",
    "            img.save('figures/insert-{}-f{}-i{}.png'.format(scenes[scene_index], f_index+1, insert_index+1))\n",
    "            display(img)"
   ]
  },
  {
   "cell_type": "code",
   "execution_count": null,
   "metadata": {},
   "outputs": [],
   "source": [
    "spectrum_size = 2 * insert_size\n",
    "\n",
    "img = Image.new(mode='RGB', size=(n_methods * spectrum_size, n_res * spectrum_size))\n",
    "\n",
    "for scene_index in range(n_scenes):\n",
    "    for f_index in range(n_f):\n",
    "        for res_index in range(n_res):\n",
    "            for method_index in range(n_methods):\n",
    "                with Image.open('figures/spectrum-{}-f{}-{}.png'.format(scenes[scene_index], f_index+1, methods[res_index][method_index])) as spectrum:\n",
    "                    img.paste(spectrum.resize((spectrum_size, spectrum_size)), (method_index * spectrum_size, res_index * spectrum_size))\n",
    "        print('\\n[Resolutions x Methods]    Scene: {}    Focus: {}'.format(scenes[scene_index], f_index+1))\n",
    "        img.save('figures/spectrum-{}-f{}.png'.format(scenes[scene_index], f_index+1))\n",
    "        display(img)"
   ]
  }
 ],
 "metadata": {
  "kernelspec": {
   "display_name": "lfd-env",
   "language": "python",
   "name": "python3"
  },
  "language_info": {
   "codemirror_mode": {
    "name": "ipython",
    "version": 3
   },
   "file_extension": ".py",
   "mimetype": "text/x-python",
   "name": "python",
   "nbconvert_exporter": "python",
   "pygments_lexer": "ipython3",
   "version": "3.8.12"
  },
  "orig_nbformat": 4
 },
 "nbformat": 4,
 "nbformat_minor": 2
}
