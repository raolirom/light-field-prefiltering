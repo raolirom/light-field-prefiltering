{
 "cells": [
  {
   "cell_type": "code",
   "execution_count": null,
   "metadata": {
    "tags": []
   },
   "outputs": [],
   "source": [
    "%matplotlib widget\n",
    "import numpy as np\n",
    "from matplotlib import pyplot\n",
    "import ipywidgets as widgets\n",
    "from IPython.display import display\n",
    "\n",
    "z_r = 0.3\n",
    "z_a = 1.0/0.7 - 1.0\n",
    "z_b = 1.0/0.5 - 1.0\n",
    "\n",
    "def line_box_intersection(a, b=-1.0, c=0.0, bottom=-1.0, top=1.0, left=-1.0, right=1.0):\n",
    "    '''Return the intersections of line ax + by = c and the box (bottom, top, left, right).'''\n",
    "    x_coords = np.array([(c - b * bottom), (c - b * top),          left ,          right ]) / [a, a, 1, 1]\n",
    "    y_coords = np.array([         bottom ,          top , (c - a * left), (c - a * right)]) / [1, 1, b, b]\n",
    "\n",
    "    args = np.argsort(x_coords)[1:3]\n",
    "\n",
    "    return x_coords[args], y_coords[args]\n",
    "\n",
    "def initialize_axes(ax, title):\n",
    "    ax.clear()\n",
    "    ax.set_xlim(-1.0, 1.0)\n",
    "    ax.set_ylim(-1.0, 1.0)\n",
    "    ax.grid()\n",
    "    ax.set_aspect('equal')\n",
    "    ax.set_title(title)\n",
    "    ax.tick_params(which='both', bottom=False, top=False, labelbottom=False, labeltop=False)\n",
    "    ax.tick_params(which='both', left=False, right=False, labelleft=False, labelright=False)\n",
    "\n",
    "def update_plot(xi_r, xi_p, param_f):\n",
    "    initialize_axes(eye_ax, 'Eye space')\n",
    "    initialize_axes(dsp_ax, 'Display space')\n",
    "\n",
    "    z_f = np.nan_to_num(np.divide(1.0, param_f) - 1.0)\n",
    "    dsp_ax.plot(*line_box_intersection(z_a, z_b, 0.0), '0.5')\n",
    "\n",
    "    eye_ax.plot([ xi_r,  xi_r], [-1.0, 1.0], 'r')\n",
    "    eye_ax.plot([-xi_r, -xi_r], [-1.0, 1.0], 'r')\n",
    "    dsp_ax.plot(*line_box_intersection(z_a, z_b, z_r * xi_r), 'r')\n",
    "    dsp_ax.plot(*line_box_intersection(z_a, z_b, -z_r * xi_r), 'r')\n",
    "\n",
    "    eye_ax.plot([-1.0, 1.0], [ xi_p,  xi_p], 'b')\n",
    "    eye_ax.plot([-1.0, 1.0], [-xi_p, -xi_p], 'b')\n",
    "    dsp_ax.plot(*line_box_intersection(z_f - z_a, z_f - z_b, z_f * xi_p), 'b')\n",
    "    dsp_ax.plot(*line_box_intersection(z_f - z_a, z_f - z_b, -z_f * xi_p), 'b')\n",
    "\n",
    "fig = pyplot.figure(figsize=(10.0, 5.0))\n",
    "eye_ax, dsp_ax = fig.subplots(1, 2)\n",
    "\n",
    "xi_r = widgets.FloatSlider(value=0.6, min=0.0, max=1.0, step=0.01, description=r'\\(\\xi_r\\)')\n",
    "xi_p = widgets.FloatSlider(value=0.4, min=0.0, max=1.0, step=0.01, description=r'\\(\\xi_p\\)')\n",
    "param_f = widgets.FloatSlider(value=0.0, min=0.0, max=1.0, step=0.01, description=r'\\(\\frac{1}{z_f + 1}\\)')\n",
    "ui = widgets.HBox([xi_r, xi_p, param_f])\n",
    "out = widgets.interactive_output(update_plot, {'xi_r': xi_r, 'xi_p': xi_p, 'param_f': param_f})\n",
    "display(ui, out)"
   ]
  }
 ],
 "metadata": {
  "colab": {
   "authorship_tag": "ABX9TyM1zPoln8NH8fiJztecBvwu",
   "collapsed_sections": [],
   "name": "paper-figures.ipynb",
   "provenance": []
  },
  "kernelspec": {
   "display_name": "Python 3",
   "language": "python",
   "name": "python3"
  },
  "language_info": {
   "codemirror_mode": {
    "name": "ipython",
    "version": 3
   },
   "file_extension": ".py",
   "mimetype": "text/x-python",
   "name": "python",
   "nbconvert_exporter": "python",
   "pygments_lexer": "ipython3",
   "version": "3.7.7"
  }
 },
 "nbformat": 4,
 "nbformat_minor": 1
}