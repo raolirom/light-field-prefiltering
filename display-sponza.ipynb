{
 "cells": [
  {
   "cell_type": "code",
   "execution_count": 1,
   "metadata": {},
   "outputs": [],
   "source": [
    "import numpy as np\n",
    "import zarr\n",
    "from PIL import Image\n",
    "from IPython.display import display\n",
    "from tqdm.notebook import tqdm, trange"
   ]
  },
  {
   "cell_type": "code",
   "execution_count": 2,
   "metadata": {},
   "outputs": [
    {
     "name": "stdout",
     "output_type": "stream",
     "text": [
      "[Sampled Light Field]\n",
      "Pupil Plane:       32 /  6.40 =   5.0 mm       z_p =   0.0 mm\n",
      "View Plane:      1440 /  6.40 = 225.0 mm       z_v = 220.0 mm\n",
      "Retina Estimate: 1408 / 82.82 =  17.0 mm    z_near = 110.0 mm\n",
      "\n",
      "Number of rays: 1,024 × 2,073,600 = 2,123,366,400\n"
     ]
    }
   ],
   "source": [
    "# Retina plane\n",
    "z_r = -17.0\n",
    "size_r = 17.0\n",
    "n_r = 512\n",
    "pitch_r = size_r / n_r\n",
    "\n",
    "focus_distances = np.array([250.0, np.inf])\n",
    "n_f = len(focus_distances)\n",
    "\n",
    "# Pupil plane\n",
    "n_p = 2**5\n",
    "size_p = 5.0\n",
    "pitch_p = size_p / n_p\n",
    "z_p = 0.0\n",
    "\n",
    "# View Plane\n",
    "n_v = 45 * 2**5\n",
    "pitch_v = pitch_p\n",
    "size_v = n_v * pitch_v\n",
    "z_v = size_v - size_p\n",
    "\n",
    "# Retina estimate\n",
    "lf_pitch_r = pitch_v * (-z_r/ z_v)\n",
    "lf_n_r = int(size_r / lf_pitch_r)\n",
    "\n",
    "print('[Sampled Light Field]')\n",
    "print('Pupil Plane:     {:4} / {:5.2f} = {:5} mm       z_p = {:5} mm'.format(n_p,       1/pitch_p, size_p, z_p))\n",
    "print('View Plane:      {:4} / {:5.2f} = {:5} mm       z_v = {:5} mm'.format(n_v,       1/pitch_v, size_v, z_v))\n",
    "print('Retina Estimate: {:4} / {:5.2f} = {:5} mm    z_near = {:5} mm'.format(lf_n_r, 1/lf_pitch_r, size_r, z_v/2))\n",
    "\n",
    "ij_p = np.stack(np.broadcast_arrays(np.arange(n_p).reshape(n_p, 1), np.arange(n_p).reshape(1, n_p)), axis=-1).reshape(n_p**2, 2)\n",
    "xyz_p = np.concatenate(((ij_p - (n_p - 1)/2) * pitch_p, -np.ones((n_p**2, 1)) * z_p), axis=-1)\n",
    "\n",
    "ij_v = np.stack(np.broadcast_arrays(np.arange(n_v).reshape(n_v, 1), np.arange(n_v).reshape(1, n_v)), axis=-1).reshape(n_v**2, 2)\n",
    "xyz_v = np.concatenate(((ij_v - (n_v - 1)/2) * pitch_v, -np.ones((n_v**2, 1)) * z_v), axis=-1)\n",
    "\n",
    "print('\\nNumber of rays:', f'{len(ij_p):,}', '×', f'{len(ij_v):,}', '=', f'{len(ij_p) * len(ij_v):,}')"
   ]
  },
  {
   "cell_type": "code",
   "execution_count": 3,
   "metadata": {},
   "outputs": [
    {
     "name": "stdout",
     "output_type": "stream",
     "text": [
      "[Display Light Field]\n",
      "Plane A:          96 /  6.40 =  15.0 mm       z_a =  10.0 mm\n",
      "Plane B:         224 /  6.40 =  35.0 mm       z_b =  30.0 mm\n",
      "Retina Estimate: 128 /  7.53 =  17.0 mm    z_near =  15.0 mm\n",
      "\n",
      "Number of elements: 9,216 × 50,176 = 462,422,016\n"
     ]
    }
   ],
   "source": [
    "# Plane A\n",
    "z_a = 10.0\n",
    "size_a = size_r * z_a / abs(z_r) + size_p\n",
    "n_a = 3 * 2**5\n",
    "pitch_a = size_a / n_a\n",
    "\n",
    "# Plane B\n",
    "z_b = 30.0\n",
    "size_b = size_r * z_b / abs(z_r) + size_p\n",
    "n_b = 7 * 2**5\n",
    "pitch_b = size_b / n_b\n",
    "\n",
    "# Retina estimate\n",
    "ab_pitch_r = pitch_a * z_r / (z_a - z_b)\n",
    "ab_n_r = int(size_r / ab_pitch_r)\n",
    "\n",
    "print('[Display Light Field]')\n",
    "print('Plane A:         {:3} / {:5.2f} = {:5} mm       z_a = {:5} mm'.format(n_a,       1/pitch_a, size_a, z_a))\n",
    "print('Plane B:         {:3} / {:5.2f} = {:5} mm       z_b = {:5} mm'.format(n_b,       1/pitch_b, size_b, z_b))\n",
    "print('Retina Estimate: {:3} / {:5.2f} = {:5} mm    z_near = {:5} mm'.format(ab_n_r, 1/ab_pitch_r, size_r, z_b/2))\n",
    "\n",
    "ij_a = np.stack(np.broadcast_arrays(np.arange(n_a).reshape(n_a, 1), np.arange(n_a).reshape(1, n_a)), axis=-1).reshape(n_a**2, 2)\n",
    "xyz_a = np.concatenate(((ij_a - (n_a - 1)/2) * pitch_a, -np.ones((n_a**2, 1)) * z_a), axis=-1)\n",
    "\n",
    "ij_b = np.stack(np.broadcast_arrays(np.arange(n_b).reshape(n_b, 1), np.arange(n_b).reshape(1, n_b)), axis=-1).reshape(n_b**2, 2)\n",
    "xyz_b = np.concatenate(((ij_b - (n_b - 1)/2) * pitch_b, -np.ones((n_b**2, 1)) * z_b), axis=-1)\n",
    "\n",
    "print('\\nNumber of elements:', f'{len(ij_a):,}', '×', f'{len(ij_b):,}', '=', f'{len(ij_a) * len(ij_b):,}')"
   ]
  },
  {
   "cell_type": "code",
   "execution_count": null,
   "metadata": {},
   "outputs": [],
   "source": [
    "%%time\n",
    "print('Processing rays...')\n",
    "\n",
    "retina_colors = np.zeros((n_f, 3, n_r, n_r), dtype=np.float32)\n",
    "retina_counts = np.zeros((n_f, 1, n_r, n_r), dtype=np.int32)\n",
    "\n",
    "light_field = zarr.open('data/sponza.zarr', mode='r')\n",
    "\n",
    "for id_p in trange(len(ij_p)):\n",
    "    # Load ray values.\n",
    "    lf_view = light_field[:, ij_p[id_p, 0], :, ij_p[id_p, 1], :].reshape(3, n_v**2)\n",
    "\n",
    "    for id_f in range(n_f):\n",
    "        z_f = focus_distances[id_f]\n",
    "        # Retina intersection.\n",
    "        xy_r = (xyz_p[id_p, 0:2] * (1 - z_v/z_f) - xyz_v[:, 0:2]) * (-z_r) / z_v\n",
    "        ij_r = np.clip(np.floor_divide(xy_r, pitch_r) + n_r/2, 0, n_r - 1).astype(np.uint32)\n",
    "        # For each ray...\n",
    "        for id_v in range(len(ij_r)):\n",
    "            retina_colors[id_f, :, ij_r[id_v, 0], ij_r[id_v, 1]] += lf_view[:, id_v]\n",
    "            retina_counts[id_f, :, ij_r[id_v, 0], ij_r[id_v, 1]] += 1"
   ]
  }
 ],
 "metadata": {
  "kernelspec": {
   "display_name": "lfd-env",
   "language": "python",
   "name": "python3"
  },
  "language_info": {
   "codemirror_mode": {
    "name": "ipython",
    "version": 3
   },
   "file_extension": ".py",
   "mimetype": "text/x-python",
   "name": "python",
   "nbconvert_exporter": "python",
   "pygments_lexer": "ipython3",
   "version": "3.8.12"
  },
  "orig_nbformat": 4,
  "vscode": {
   "interpreter": {
    "hash": "4a227114bb547c9d854eeb92adfd35835dee521b13ed07fb797807de3b410121"
   }
  }
 },
 "nbformat": 4,
 "nbformat_minor": 2
}
